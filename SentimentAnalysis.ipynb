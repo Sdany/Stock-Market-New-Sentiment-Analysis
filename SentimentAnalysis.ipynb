{
 "cells": [
  {
   "cell_type": "markdown",
   "id": "EvCcfwuSU-fz",
   "metadata": {
    "id": "EvCcfwuSU-fz"
   },
   "source": [
    "## **Problem Statement**"
   ]
  },
  {
   "cell_type": "markdown",
   "id": "6QR_RHvIVHT2",
   "metadata": {
    "id": "6QR_RHvIVHT2"
   },
   "source": [
    "### Business Context"
   ]
  },
  {
   "cell_type": "markdown",
   "id": "pl3dmH-EnJGl",
   "metadata": {
    "id": "pl3dmH-EnJGl"
   },
   "source": [
    "The prices of the stocks of companies listed under a global exchange are influenced by a variety of factors, with the company's financial performance, innovations and collaborations, and market sentiment being factors that play a significant role. News and media reports can rapidly affect investor perceptions and, consequently, stock prices in the highly competitive financial industry. With the sheer volume of news and opinions from a wide variety of sources, investors and financial analysts often struggle to stay updated and accurately interpret its impact on the market. As a result, investment firms need sophisticated tools to analyze market sentiment and integrate this information into their investment strategies."
   ]
  },
  {
   "cell_type": "markdown",
   "id": "Vn6bbxSwVKl3",
   "metadata": {
    "id": "Vn6bbxSwVKl3"
   },
   "source": [
    "### Problem Definition"
   ]
  },
  {
   "cell_type": "markdown",
   "id": "jCIswL3zobj6",
   "metadata": {
    "id": "jCIswL3zobj6"
   },
   "source": [
    "With an ever-rising number of news articles and opinions, an investment startup aims to leverage artificial intelligence to address the challenge of interpreting stock-related news and its impact on stock prices. They have collected historical daily news for a specific company listed under NASDAQ, along with data on its daily stock price and trade volumes.\n",
    "\n",
    "As a member of the Data Science and AI team in the startup, you have been tasked with developing an AI-driven sentiment analysis system that will automatically process and analyze news articles to gauge market sentiment, and summarizing the news at a weekly level to enhance the accuracy of their stock price predictions and optimize investment strategies. This will empower their financial analysts with actionable insights, leading to more informed investment decisions and improved client outcomes."
   ]
  },
  {
   "cell_type": "markdown",
   "id": "ZJOtDHVSF5hu",
   "metadata": {
    "id": "ZJOtDHVSF5hu"
   },
   "source": [
    "### Data Dictionary"
   ]
  },
  {
   "cell_type": "markdown",
   "id": "ZlkjI8V5F9RK",
   "metadata": {
    "id": "ZlkjI8V5F9RK"
   },
   "source": [
    "* `Date` : The date the news was released\n",
    "* `News` : The content of news articles that could potentially affect the company's stock price\n",
    "* `Open` : The stock price (in \\$) at the beginning of the day\n",
    "* `High` : The highest stock price (in \\$) reached during the day\n",
    "* `Low` :  The lowest stock price (in \\$) reached during the day\n",
    "* `Close` : The adjusted stock price (in \\$) at the end of the day\n",
    "* `Volume` : The number of shares traded during the day\n",
    "* `Label` : The sentiment polarity of the news content\n",
    "    * 1: positive\n",
    "    * 0: neutral\n",
    "    * -1: negative"
   ]
  },
  {
   "cell_type": "markdown",
   "id": "VrFQHcW5mYgv",
   "metadata": {
    "id": "VrFQHcW5mYgv"
   },
   "source": [
    "## **Install and Import necessary libraries**"
   ]
  },
  {
   "cell_type": "code",
   "execution_count": null,
   "id": "A-E2-iaumpo8",
   "metadata": {
    "colab": {
     "base_uri": "https://localhost:8080/"
    },
    "collapsed": true,
    "executionInfo": {
     "elapsed": 7400,
     "status": "ok",
     "timestamp": 1753420096259,
     "user": {
      "displayName": "Sheetal Dany",
      "userId": "04513103113688516394"
     },
     "user_tz": 300
    },
    "id": "A-E2-iaumpo8",
    "outputId": "3ab397bb-ae01-468a-ee26-5ae1af6b7217"
   },
   "outputs": [],
   "source": [
    "# installing the sentence-transformers and gensim libraries for word embeddings\n",
    "!pip install numpy==1.26.4 \\\n",
    "             scikit-learn==1.6.1 \\\n",
    "             scipy==1.13.1 \\\n",
    "             gensim==4.3.3 \\\n",
    "             sentence-transformers==3.4.1 \\\n",
    "             pandas==2.2.2"
   ]
  },
  {
   "cell_type": "code",
   "execution_count": null,
   "id": "7idEIJsEbyDQ",
   "metadata": {
    "executionInfo": {
     "elapsed": 2,
     "status": "ok",
     "timestamp": 1753420096263,
     "user": {
      "displayName": "Sheetal Dany",
      "userId": "04513103113688516394"
     },
     "user_tz": 300
    },
    "id": "7idEIJsEbyDQ"
   },
   "outputs": [],
   "source": [
    "# Import Pandas: Used for data manipulation and analysis.\n",
    "import pandas as pd\n",
    "pd.options.display.float_format = '{:.2f}'.format\n",
    "\n",
    "#Import NumPy: Used for numerical operations and array handling.\n",
    "import numpy as np\n",
    "\n",
    "# Matplotlib: Used for creating static, interactive, and animated visualizations.\n",
    "import matplotlib.pyplot as plt\n",
    "import seaborn as sns\n",
    "from gensim.models import Word2Vec\n",
    "from sentence_transformers import SentenceTransformer\n",
    "\n",
    "# To build and evaluate ML models\n",
    "from sklearn.ensemble import RandomForestClassifier\n",
    "from sklearn.metrics import accuracy_score, precision_score, recall_score, f1_score, confusion_matrix\n",
    "\n",
    "# Import TensorFLow and Keras for deep learning model building\n",
    "import tensorflow as tf\n",
    "from tensorflow.keras.models import Sequential\n",
    "from tensorflow.keras.layers import Dense, Dropout, LSTM\n",
    "\n",
    "# To implement progress bar related functionalities\n",
    "from tqdm import tqdm\n",
    "tqdm.pandas()\n",
    "\n",
    "# To ignore unnecessary warnings\n",
    "import warnings\n",
    "warnings.filterwarnings('ignore')"
   ]
  },
  {
   "cell_type": "markdown",
   "id": "wQ46zPgumfjF",
   "metadata": {
    "id": "wQ46zPgumfjF"
   },
   "source": [
    "## **Loading the dataset**"
   ]
  },
  {
   "cell_type": "code",
   "execution_count": null,
   "id": "1xFSwCCer1uA",
   "metadata": {
    "colab": {
     "base_uri": "https://localhost:8080/"
    },
    "executionInfo": {
     "elapsed": 432,
     "status": "ok",
     "timestamp": 1753420096700,
     "user": {
      "displayName": "Sheetal Dany",
      "userId": "04513103113688516394"
     },
     "user_tz": 300
    },
    "id": "1xFSwCCer1uA",
    "outputId": "5a66be52-b08f-42da-9bb8-c1f7cd275270"
   },
   "outputs": [],
   "source": [
    "# Mount the google drive\n",
    "from google.colab import drive\n",
    "drive.mount('/content/drive')\n",
    "\n",
    "# Load the dataset\n",
    "data = pd.read_csv('/content/drive/MyDrive/ColabNotebooks/Dataset/stock_news.csv')\n"
   ]
  },
  {
   "cell_type": "markdown",
   "id": "EvFNfrvGWthn",
   "metadata": {
    "id": "EvFNfrvGWthn"
   },
   "source": [
    "## **Data Overview**"
   ]
  },
  {
   "cell_type": "markdown",
   "id": "JXnO4UHmdI8z",
   "metadata": {
    "id": "JXnO4UHmdI8z"
   },
   "source": [
    "**Display the number of rows and columns**"
   ]
  },
  {
   "cell_type": "code",
   "execution_count": null,
   "id": "HEtn1BMJgu83",
   "metadata": {
    "colab": {
     "base_uri": "https://localhost:8080/"
    },
    "executionInfo": {
     "elapsed": 29,
     "status": "ok",
     "timestamp": 1753420096731,
     "user": {
      "displayName": "Sheetal Dany",
      "userId": "04513103113688516394"
     },
     "user_tz": 300
    },
    "id": "HEtn1BMJgu83",
    "outputId": "6ea86d4a-4ad1-4949-b70c-6879dd74631e"
   },
   "outputs": [],
   "source": [
    "# Show the number of rows and columns in the data\n",
    "data.shape"
   ]
  },
  {
   "cell_type": "markdown",
   "id": "arMTppr_dY-I",
   "metadata": {
    "id": "arMTppr_dY-I"
   },
   "source": [
    "**Display the first 10 rows of the dataframe**"
   ]
  },
  {
   "cell_type": "code",
   "execution_count": null,
   "id": "zIja7RzOdfta",
   "metadata": {
    "colab": {
     "base_uri": "https://localhost:8080/",
     "height": 363
    },
    "executionInfo": {
     "elapsed": 95,
     "status": "ok",
     "timestamp": 1753420096827,
     "user": {
      "displayName": "Sheetal Dany",
      "userId": "04513103113688516394"
     },
     "user_tz": 300
    },
    "id": "zIja7RzOdfta",
    "outputId": "1d79de7e-0a3f-4190-ef99-bbbdb32b9d30"
   },
   "outputs": [],
   "source": [
    "# Show first 10 columns of dataframe\n",
    "data.head(10)"
   ]
  },
  {
   "cell_type": "markdown",
   "id": "K5FExqKwd5Yg",
   "metadata": {
    "id": "K5FExqKwd5Yg"
   },
   "source": [
    "**Display the data type of the columns**"
   ]
  },
  {
   "cell_type": "code",
   "execution_count": null,
   "id": "zOLlO0CleBTx",
   "metadata": {
    "colab": {
     "base_uri": "https://localhost:8080/"
    },
    "executionInfo": {
     "elapsed": 25,
     "status": "ok",
     "timestamp": 1753420096872,
     "user": {
      "displayName": "Sheetal Dany",
      "userId": "04513103113688516394"
     },
     "user_tz": 300
    },
    "id": "zOLlO0CleBTx",
    "outputId": "c3cf2449-0765-41e6-c432-c4f0b1d49761"
   },
   "outputs": [],
   "source": [
    "# Show datatype of columns\n",
    "data.info()"
   ]
  },
  {
   "cell_type": "markdown",
   "id": "FhEu571GpZkt",
   "metadata": {
    "id": "FhEu571GpZkt"
   },
   "source": [
    "Date column is  of type object."
   ]
  },
  {
   "cell_type": "markdown",
   "id": "6KIJjIW-f1TN",
   "metadata": {
    "id": "6KIJjIW-f1TN"
   },
   "source": [
    "**Convert the data type of Date as date**"
   ]
  },
  {
   "cell_type": "code",
   "execution_count": null,
   "id": "UPl5JgZSf9zj",
   "metadata": {
    "executionInfo": {
     "elapsed": 34,
     "status": "ok",
     "timestamp": 1753420096907,
     "user": {
      "displayName": "Sheetal Dany",
      "userId": "04513103113688516394"
     },
     "user_tz": 300
    },
    "id": "UPl5JgZSf9zj"
   },
   "outputs": [],
   "source": [
    "# Convert Date column datatype to date\n",
    "data['Date'] = pd.to_datetime(data['Date'])"
   ]
  },
  {
   "cell_type": "markdown",
   "id": "l-_5MnergQ0X",
   "metadata": {
    "id": "l-_5MnergQ0X"
   },
   "source": [
    "Display the statistical summary of data"
   ]
  },
  {
   "cell_type": "code",
   "execution_count": null,
   "id": "A8xkPGyqgcfU",
   "metadata": {
    "colab": {
     "base_uri": "https://localhost:8080/",
     "height": 269
    },
    "executionInfo": {
     "elapsed": 83,
     "status": "ok",
     "timestamp": 1753420096992,
     "user": {
      "displayName": "Sheetal Dany",
      "userId": "04513103113688516394"
     },
     "user_tz": 300
    },
    "id": "A8xkPGyqgcfU",
    "outputId": "70a263af-61ba-4d5b-f1db-ee68ec2b3aff"
   },
   "outputs": [],
   "source": [
    "# Show statistical summary of data. It is transposed to show the columns as rows.\n",
    "data.describe().T"
   ]
  },
  {
   "cell_type": "markdown",
   "id": "SHWH71r4g59n",
   "metadata": {
    "id": "SHWH71r4g59n"
   },
   "source": [
    "* Data is from Jan 2019 - April 2019\n",
    "* Between Jan 2019 - April 2019 the opening high was 66.82 and opening low was 37.57\n",
    "\n",
    "*   The highest price was 67.06\n",
    "*   The lowest price was 37.30\n",
    "\n",
    "\n",
    "\n",
    "\n"
   ]
  },
  {
   "cell_type": "markdown",
   "id": "fFtllc-yiETm",
   "metadata": {
    "id": "fFtllc-yiETm"
   },
   "source": [
    "**Check for duplicates**"
   ]
  },
  {
   "cell_type": "code",
   "execution_count": null,
   "id": "yXCyoj5SiQ73",
   "metadata": {
    "colab": {
     "base_uri": "https://localhost:8080/"
    },
    "executionInfo": {
     "elapsed": 23,
     "status": "ok",
     "timestamp": 1753420097017,
     "user": {
      "displayName": "Sheetal Dany",
      "userId": "04513103113688516394"
     },
     "user_tz": 300
    },
    "id": "yXCyoj5SiQ73",
    "outputId": "87e985f0-7e9a-477a-d4a0-a4a9154e47ae"
   },
   "outputs": [],
   "source": [
    "# Check for duplicate rows\n",
    "duplicate_rows = data[data.duplicated()]\n",
    "\n",
    "# Print the number of duplicate rows\n",
    "print(duplicate_rows)"
   ]
  },
  {
   "cell_type": "markdown",
   "id": "WnTlGaQzh_ul",
   "metadata": {
    "id": "WnTlGaQzh_ul"
   },
   "source": [
    "No duplicate rows"
   ]
  },
  {
   "cell_type": "markdown",
   "id": "FgRqqj7GjSiI",
   "metadata": {
    "id": "FgRqqj7GjSiI"
   },
   "source": [
    "**Check for missing values**"
   ]
  },
  {
   "cell_type": "code",
   "execution_count": null,
   "id": "NLLrGOG2jgZK",
   "metadata": {
    "colab": {
     "base_uri": "https://localhost:8080/",
     "height": 335
    },
    "executionInfo": {
     "elapsed": 49,
     "status": "ok",
     "timestamp": 1753420097067,
     "user": {
      "displayName": "Sheetal Dany",
      "userId": "04513103113688516394"
     },
     "user_tz": 300
    },
    "id": "NLLrGOG2jgZK",
    "outputId": "e4311e0e-77b9-40f2-e1b2-b47a6fc02436"
   },
   "outputs": [],
   "source": [
    "# Check for missing values\n",
    "data.isnull().sum()"
   ]
  },
  {
   "cell_type": "markdown",
   "id": "M-B-7YYHjo1W",
   "metadata": {
    "id": "M-B-7YYHjo1W"
   },
   "source": [
    "No missing values"
   ]
  },
  {
   "cell_type": "markdown",
   "id": "hGHBK8-QeKOB",
   "metadata": {
    "id": "hGHBK8-QeKOB"
   },
   "source": [
    "## **Exploratory Data Analysis**"
   ]
  },
  {
   "cell_type": "markdown",
   "id": "Q0UlMQnyegl7",
   "metadata": {
    "id": "Q0UlMQnyegl7"
   },
   "source": [
    "### **Univariate Analysis**"
   ]
  },
  {
   "cell_type": "markdown",
   "id": "9GVt_AAbe29X",
   "metadata": {
    "id": "9GVt_AAbe29X"
   },
   "source": [
    "* Distribution of individual variables\n",
    "* Compute and check the distribution of the length of news content"
   ]
  },
  {
   "cell_type": "code",
   "execution_count": null,
   "id": "vZ2BMrkCkdxF",
   "metadata": {
    "colab": {
     "base_uri": "https://localhost:8080/",
     "height": 0
    },
    "executionInfo": {
     "elapsed": 280,
     "status": "ok",
     "timestamp": 1753420097346,
     "user": {
      "displayName": "Sheetal Dany",
      "userId": "04513103113688516394"
     },
     "user_tz": 300
    },
    "id": "vZ2BMrkCkdxF",
    "outputId": "3f4588cb-6a49-4b57-c37e-91aab6b3dd9d"
   },
   "outputs": [],
   "source": [
    "# Show the distribution of new polarity in percentage\n",
    "sns.countplot(data=data, x='Label',stat=\"percent\")\n",
    "plt.title('Distribution of polarity of news')\n",
    "#plt.show()"
   ]
  },
  {
   "cell_type": "markdown",
   "id": "he2-iPQ_lsA5",
   "metadata": {
    "id": "he2-iPQ_lsA5"
   },
   "source": [
    "Graph shows that about 50% of the time, market was neutral to the market news.\n",
    "About 28% of of the time, market behaved negatively to the market news.\n",
    "And about 22% market was positive to the news."
   ]
  },
  {
   "cell_type": "markdown",
   "id": "o_cRKYrOnkZJ",
   "metadata": {
    "id": "o_cRKYrOnkZJ"
   },
   "source": [
    "**Density Plot Of Price (Open, High, Low, Close)**"
   ]
  },
  {
   "cell_type": "code",
   "execution_count": null,
   "id": "4gVMW_AYnwSZ",
   "metadata": {
    "colab": {
     "base_uri": "https://localhost:8080/",
     "height": 0
    },
    "executionInfo": {
     "elapsed": 1016,
     "status": "ok",
     "timestamp": 1753420098364,
     "user": {
      "displayName": "Sheetal Dany",
      "userId": "04513103113688516394"
     },
     "user_tz": 300
    },
    "id": "4gVMW_AYnwSZ",
    "outputId": "52567772-9662-48ce-bef3-d154104549dd"
   },
   "outputs": [],
   "source": [
    "# Show the distribution of 4 stock price\n",
    "sns.displot(data=data[['Open','High','Low','Close']], kind='kde',palette=\"tab10\")\n"
   ]
  },
  {
   "cell_type": "markdown",
   "id": "LWhEO8DvrU03",
   "metadata": {
    "id": "LWhEO8DvrU03"
   },
   "source": [
    "* All four prices show similar distribution peak ~40 -50 and another peak ~60 - 70\n",
    "* Lines are so close, indicating low variance."
   ]
  },
  {
   "cell_type": "markdown",
   "id": "SN9ZNQt4q1d5",
   "metadata": {
    "id": "SN9ZNQt4q1d5"
   },
   "source": [
    "**Histogram on Volumn**"
   ]
  },
  {
   "cell_type": "code",
   "execution_count": null,
   "id": "npN40PRerBmi",
   "metadata": {
    "colab": {
     "base_uri": "https://localhost:8080/",
     "height": 0
    },
    "executionInfo": {
     "elapsed": 530,
     "status": "ok",
     "timestamp": 1753420098892,
     "user": {
      "displayName": "Sheetal Dany",
      "userId": "04513103113688516394"
     },
     "user_tz": 300
    },
    "id": "npN40PRerBmi",
    "outputId": "1fecb01e-ef3a-4a7a-ab09-7d479190d6bd"
   },
   "outputs": [],
   "source": [
    "# Show the distribution of trading volumn\n",
    "sns.histplot(data=data, x='Volume', kde=True, stat=\"frequency\")\n",
    "plt.title('Histogram of Volumn')"
   ]
  },
  {
   "cell_type": "markdown",
   "id": "6PFr7jMBrj0C",
   "metadata": {
    "id": "6PFr7jMBrj0C"
   },
   "source": [
    "X-axis: Range of trading volumns.\n",
    "Y-axis: No of times the trading volumns fell in the range bucket.\n",
    "* Distribution is right skewed.\n",
    "* Lower trading volumns are common\n",
    "* There are some ouliers as high trading volumes on the right.\n",
    "* Most days have low trading volumns. Some days have high trading volumn possibly due to the makert moving newes.\n"
   ]
  },
  {
   "cell_type": "markdown",
   "id": "d-9URLy_tdZ6",
   "metadata": {
    "id": "d-9URLy_tdZ6"
   },
   "source": [
    "**Statistical Summary on News Length**"
   ]
  },
  {
   "cell_type": "code",
   "execution_count": null,
   "id": "GOkXtwGBtknX",
   "metadata": {
    "colab": {
     "base_uri": "https://localhost:8080/",
     "height": 0
    },
    "executionInfo": {
     "elapsed": 21,
     "status": "ok",
     "timestamp": 1753420098921,
     "user": {
      "displayName": "Sheetal Dany",
      "userId": "04513103113688516394"
     },
     "user_tz": 300
    },
    "id": "GOkXtwGBtknX",
    "outputId": "643269d3-ef3f-4f7a-d0a2-978018d8fc77"
   },
   "outputs": [],
   "source": [
    "# Calulate the number of words in each new article\n",
    "data['news_length'] = data['News'].apply(lambda x: len(x.split()))\n",
    "data['news_length'].describe()"
   ]
  },
  {
   "cell_type": "markdown",
   "id": "Cgj_4n_sufEz",
   "metadata": {
    "id": "Cgj_4n_sufEz"
   },
   "source": [
    "* The average word count for each article is 48.35\n",
    "* The minimum word count for each article is 18\n",
    "* The max word count for each article is 60\n"
   ]
  },
  {
   "cell_type": "markdown",
   "id": "pNcLzn_-u_M6",
   "metadata": {
    "id": "pNcLzn_-u_M6"
   },
   "source": [
    "**Histogram on News Length**"
   ]
  },
  {
   "cell_type": "code",
   "execution_count": null,
   "id": "cTYTcpqeu-zS",
   "metadata": {
    "colab": {
     "base_uri": "https://localhost:8080/",
     "height": 0
    },
    "executionInfo": {
     "elapsed": 420,
     "status": "ok",
     "timestamp": 1753420099343,
     "user": {
      "displayName": "Sheetal Dany",
      "userId": "04513103113688516394"
     },
     "user_tz": 300
    },
    "id": "cTYTcpqeu-zS",
    "outputId": "80a3b6ce-7b6b-4028-edf4-e43f3be7663e"
   },
   "outputs": [],
   "source": [
    "# Show the distribution of News word count\n",
    "sns.histplot(data=data, x='news_length', kde=True, stat=\"frequency\")\n",
    "plt.title('Histogram of Article Word Count')"
   ]
  },
  {
   "cell_type": "markdown",
   "id": "FeWKYtJWv7LW",
   "metadata": {
    "id": "FeWKYtJWv7LW"
   },
   "source": [
    "Histogram shows that:\n",
    "* Most articles have word count between 45 - 55.\n",
    "* Very few articles with low word count.\n"
   ]
  },
  {
   "cell_type": "markdown",
   "id": "hLE0s7OFKilB",
   "metadata": {
    "id": "hLE0s7OFKilB"
   },
   "source": [
    "### **Bivariate Analysis**"
   ]
  },
  {
   "cell_type": "markdown",
   "id": "Yn_9wfzxL-r1",
   "metadata": {
    "id": "Yn_9wfzxL-r1"
   },
   "source": [
    "* Correlation\n",
    "* Sentiment Polarity vs Price\n",
    "* Date vs Price\n",
    "\n",
    "**Note**: The above points are listed to provide guidance on how to approach bivariate analysis. Analysis has to be done beyond the above listed points to get maximum scores."
   ]
  },
  {
   "cell_type": "markdown",
   "id": "m1_y7vLDsnfA",
   "metadata": {
    "id": "m1_y7vLDsnfA"
   },
   "source": [
    "**Correlation Heatmap**"
   ]
  },
  {
   "cell_type": "code",
   "execution_count": null,
   "id": "GkHVNs3-s9t4",
   "metadata": {
    "colab": {
     "base_uri": "https://localhost:8080/",
     "height": 0
    },
    "executionInfo": {
     "elapsed": 616,
     "status": "ok",
     "timestamp": 1753420099961,
     "user": {
      "displayName": "Sheetal Dany",
      "userId": "04513103113688516394"
     },
     "user_tz": 300
    },
    "id": "GkHVNs3-s9t4",
    "outputId": "a6dc82ae-852f-479a-f451-3d4732312537"
   },
   "outputs": [],
   "source": [
    "# Show the correlation between variables\n",
    "cols= ['Open','High','Low','Close','Volume','news_length']\n",
    "corr = data[cols].corr()\n",
    "sns.heatmap(corr, annot=True, cmap='coolwarm')"
   ]
  },
  {
   "cell_type": "markdown",
   "id": "IAxIMmnpeD82",
   "metadata": {
    "id": "IAxIMmnpeD82"
   },
   "source": [
    "* There is a strong positive correlation between the open, high, low and close variable.\n",
    "* News length has a weak correlation with the price variables. Meaning the length of the news has no effect on the price vairbles.\n",
    "* Volumn also has a weak correlation to price variables."
   ]
  },
  {
   "cell_type": "markdown",
   "id": "NfI8-hGRtlrV",
   "metadata": {
    "id": "NfI8-hGRtlrV"
   },
   "source": [
    "**Box Plot between Label vs Price**\n"
   ]
  },
  {
   "cell_type": "code",
   "execution_count": null,
   "id": "D0rkOsaEtw5c",
   "metadata": {
    "colab": {
     "base_uri": "https://localhost:8080/",
     "height": 0
    },
    "executionInfo": {
     "elapsed": 2500,
     "status": "ok",
     "timestamp": 1753420102459,
     "user": {
      "displayName": "Sheetal Dany",
      "userId": "04513103113688516394"
     },
     "user_tz": 300
    },
    "id": "D0rkOsaEtw5c",
    "outputId": "6ef4b6f2-952b-44c7-896c-3b9468c9e710"
   },
   "outputs": [],
   "source": [
    "# Show box plot of label vs price\n",
    "plt.figure(figsize=(10, 8))\n",
    "\n",
    "for i, variable in enumerate(['Open', 'High', 'Low', 'Close']):\n",
    "    plt.subplot(2, 2, i + 1)\n",
    "    sns.boxplot(data=data, x=\"Label\", y=variable)\n",
    "    plt.tight_layout(pad=2)\n",
    "\n",
    "plt.show()"
   ]
  },
  {
   "cell_type": "markdown",
   "id": "bdH0hzDSuRWd",
   "metadata": {
    "id": "bdH0hzDSuRWd"
   },
   "source": [
    "* Price distribution is similar across market polarity.\n",
    "* Not much variation in price based on market sentiments.\n"
   ]
  },
  {
   "cell_type": "markdown",
   "id": "7UnkN_RYu05d",
   "metadata": {
    "id": "7UnkN_RYu05d"
   },
   "source": [
    "**Date vs Price**"
   ]
  },
  {
   "cell_type": "code",
   "execution_count": null,
   "id": "ItC-5cswu4B1",
   "metadata": {
    "colab": {
     "base_uri": "https://localhost:8080/",
     "height": 0
    },
    "executionInfo": {
     "elapsed": 35,
     "status": "ok",
     "timestamp": 1753420102495,
     "user": {
      "displayName": "Sheetal Dany",
      "userId": "04513103113688516394"
     },
     "user_tz": 300
    },
    "id": "ItC-5cswu4B1",
    "outputId": "ab492373-63c3-4416-e3b8-6a1b3fe26bb8"
   },
   "outputs": [],
   "source": [
    "# Group data by date\n",
    "data_daily = data.groupby('Date').agg(\n",
    "    {\n",
    "        'Open': 'mean',\n",
    "        'High': 'mean',\n",
    "        'Low': 'mean',\n",
    "        'Close': 'mean',\n",
    "        'Volume': 'mean',\n",
    "    }\n",
    ").reset_index()\n",
    "\n",
    "data_daily.set_index('Date', inplace=True)\n",
    "data_daily.head()"
   ]
  },
  {
   "cell_type": "code",
   "execution_count": null,
   "id": "bDJL1AbMvStU",
   "metadata": {
    "colab": {
     "base_uri": "https://localhost:8080/",
     "height": 0
    },
    "executionInfo": {
     "elapsed": 877,
     "status": "ok",
     "timestamp": 1753420103391,
     "user": {
      "displayName": "Sheetal Dany",
      "userId": "04513103113688516394"
     },
     "user_tz": 300
    },
    "id": "bDJL1AbMvStU",
    "outputId": "e602499f-c42b-4bd0-9126-b243014da87d"
   },
   "outputs": [],
   "source": [
    " # Show the line plot of price over time\n",
    "plt.figure(figsize=(15,5))\n",
    "sns.lineplot(data_daily.drop(\"Volume\", axis=1)); #Complete the"
   ]
  },
  {
   "cell_type": "markdown",
   "id": "oIELjmrhttFC",
   "metadata": {
    "id": "oIELjmrhttFC"
   },
   "source": [
    "* The 4 different prices move in sync, prices are on a given day are closely related\n",
    "* There regular interval of highs and lows indicate periodic market events.\n"
   ]
  },
  {
   "cell_type": "markdown",
   "id": "N8z4-vOBmwqv",
   "metadata": {
    "id": "N8z4-vOBmwqv"
   },
   "source": [
    "## **Data Preprocessing**"
   ]
  },
  {
   "cell_type": "markdown",
   "id": "9n61qkLJuvNy",
   "metadata": {
    "id": "9n61qkLJuvNy"
   },
   "source": [
    "Transform raw data into a clean organized and usable format for models to learn."
   ]
  },
  {
   "cell_type": "code",
   "execution_count": null,
   "id": "U3JRcGfghIgy",
   "metadata": {
    "colab": {
     "base_uri": "https://localhost:8080/",
     "height": 0
    },
    "executionInfo": {
     "elapsed": 3,
     "status": "ok",
     "timestamp": 1753420103396,
     "user": {
      "displayName": "Sheetal Dany",
      "userId": "04513103113688516394"
     },
     "user_tz": 300
    },
    "id": "U3JRcGfghIgy",
    "outputId": "16ccaa88-5422-4ecb-c666-175942474fe1"
   },
   "outputs": [],
   "source": [
    "# Check the date to figure out how to split the data\n",
    "data['Date'].describe()"
   ]
  },
  {
   "cell_type": "markdown",
   "id": "fMn9GLNzOHK8",
   "metadata": {
    "id": "fMn9GLNzOHK8"
   },
   "source": [
    "## **Train-Test Split**"
   ]
  },
  {
   "cell_type": "markdown",
   "id": "KriQknddOX1M",
   "metadata": {
    "id": "KriQknddOX1M"
   },
   "source": [
    "Split data for training and test. Since time series data, train using data from 2019-01-02 - 2019-03-31. And test on April Data."
   ]
  },
  {
   "cell_type": "code",
   "execution_count": null,
   "id": "DCuaugVDhQON",
   "metadata": {
    "executionInfo": {
     "elapsed": 3,
     "status": "ok",
     "timestamp": 1753420103401,
     "user": {
      "displayName": "Sheetal Dany",
      "userId": "04513103113688516394"
     },
     "user_tz": 300
    },
    "id": "DCuaugVDhQON"
   },
   "outputs": [],
   "source": [
    "# Split data for train and test\n",
    "X_train = data[data['Date'] < '2019-04-01']\n",
    "X_test = data[data['Date'] >= '2019-04-01']"
   ]
  },
  {
   "cell_type": "code",
   "execution_count": null,
   "id": "shkAj0qOhLfP",
   "metadata": {
    "executionInfo": {
     "elapsed": 8,
     "status": "ok",
     "timestamp": 1753420103408,
     "user": {
      "displayName": "Sheetal Dany",
      "userId": "04513103113688516394"
     },
     "user_tz": 300
    },
    "id": "shkAj0qOhLfP"
   },
   "outputs": [],
   "source": [
    "# Assign Label as target variable\n",
    "y_train = X_train['Label'].copy()\n",
    "y_test = X_test['Label'].copy()"
   ]
  },
  {
   "cell_type": "code",
   "execution_count": null,
   "id": "GDKMnBniPuc8",
   "metadata": {
    "colab": {
     "base_uri": "https://localhost:8080/"
    },
    "executionInfo": {
     "elapsed": 8,
     "status": "ok",
     "timestamp": 1753420103419,
     "user": {
      "displayName": "Sheetal Dany",
      "userId": "04513103113688516394"
     },
     "user_tz": 300
    },
    "id": "GDKMnBniPuc8",
    "outputId": "a570f209-2deb-423d-da77-09ddc7afb105"
   },
   "outputs": [],
   "source": [
    "#Check the shape of training and testing data to confirm split\n",
    "print('Shape of training data:', X_train.shape)\n",
    "print('Shape of testing data:', X_test.shape)\n",
    "print('Shape of training target:', y_train.shape)\n",
    "print('Shape of testing target:', y_test.shape)"
   ]
  },
  {
   "cell_type": "markdown",
   "id": "0rYgR14ORf7b",
   "metadata": {
    "id": "0rYgR14ORf7b"
   },
   "source": [
    "##**Word Embeddings**\n",
    "In this project we'll try Word2Vec-based model and Sentence Transformer-based model to generate the vector representation of stock metadata."
   ]
  },
  {
   "cell_type": "markdown",
   "id": "4IUBFAOTbjju",
   "metadata": {
    "id": "4IUBFAOTbjju"
   },
   "source": [
    "### **Text embedding using Word2Vec**"
   ]
  },
  {
   "cell_type": "markdown",
   "id": "mhaOa6LNDFhJ",
   "metadata": {
    "id": "mhaOa6LNDFhJ"
   },
   "source": [
    "Step 1: Data Preparation"
   ]
  },
  {
   "cell_type": "code",
   "execution_count": null,
   "id": "atB5bL5bTKyb",
   "metadata": {
    "executionInfo": {
     "elapsed": 17,
     "status": "ok",
     "timestamp": 1753420103438,
     "user": {
      "displayName": "Sheetal Dany",
      "userId": "04513103113688516394"
     },
     "user_tz": 300
    },
    "id": "atB5bL5bTKyb"
   },
   "outputs": [],
   "source": [
    "# Create data_word2vec to store tokens, embedding independently without modifying the original dataframe.\n",
    "data_word2vec = data.copy()\n"
   ]
  },
  {
   "cell_type": "code",
   "execution_count": null,
   "id": "ymicK3piTsG8",
   "metadata": {
    "executionInfo": {
     "elapsed": 35,
     "status": "ok",
     "timestamp": 1753420103476,
     "user": {
      "displayName": "Sheetal Dany",
      "userId": "04513103113688516394"
     },
     "user_tz": 300
    },
    "id": "ymicK3piTsG8"
   },
   "outputs": [],
   "source": [
    "# Using simple_preprocess function to tokenize and lowercase all words.\n",
    "from gensim.utils import simple_preprocess\n",
    "data_word2vec['tokens'] = data_word2vec['News'].apply(lambda x: simple_preprocess(x))\n"
   ]
  },
  {
   "cell_type": "code",
   "execution_count": null,
   "id": "05GyTKzuXOPh",
   "metadata": {
    "executionInfo": {
     "elapsed": 30,
     "status": "ok",
     "timestamp": 1753420103529,
     "user": {
      "displayName": "Sheetal Dany",
      "userId": "04513103113688516394"
     },
     "user_tz": 300
    },
    "id": "05GyTKzuXOPh"
   },
   "outputs": [],
   "source": [
    "# Check the tokens\n",
    "#print(data_word2vec['tokens'])"
   ]
  },
  {
   "cell_type": "markdown",
   "id": "qNBFKn_qDMtR",
   "metadata": {
    "id": "qNBFKn_qDMtR"
   },
   "source": [
    "Step 2: Model Training"
   ]
  },
  {
   "cell_type": "code",
   "execution_count": null,
   "id": "j5wPxNumC2yJ",
   "metadata": {
    "executionInfo": {
     "elapsed": 537,
     "status": "ok",
     "timestamp": 1753420104064,
     "user": {
      "displayName": "Sheetal Dany",
      "userId": "04513103113688516394"
     },
     "user_tz": 300
    },
    "id": "j5wPxNumC2yJ"
   },
   "outputs": [],
   "source": [
    "# Train the word2vec model preprocessed data. Tokenize and vectorize.\n",
    "from gensim.models import Word2Vec\n",
    "vec_size = 300\n",
    "model_word2vec = Word2Vec(sentences=data_word2vec['tokens'], vector_size=vec_size, window=5, min_count=1, workers=4,seed=42)"
   ]
  },
  {
   "cell_type": "code",
   "execution_count": null,
   "id": "WkoYQdqfjc9Y",
   "metadata": {
    "executionInfo": {
     "elapsed": 4,
     "status": "ok",
     "timestamp": 1753420222095,
     "user": {
      "displayName": "Sheetal Dany",
      "userId": "04513103113688516394"
     },
     "user_tz": 300
    },
    "id": "WkoYQdqfjc9Y"
   },
   "outputs": [],
   "source": [
    "# Check the tokens\n",
    "#print(model_word2vec.wv.index_to_key)"
   ]
  },
  {
   "cell_type": "markdown",
   "id": "EMs8UKTIiSSo",
   "metadata": {
    "id": "EMs8UKTIiSSo"
   },
   "source": [
    "Step 3: Create a Dictionary of words"
   ]
  },
  {
   "cell_type": "code",
   "execution_count": null,
   "id": "kAtv_0YwiQyP",
   "metadata": {
    "executionInfo": {
     "elapsed": 152,
     "status": "ok",
     "timestamp": 1753420104323,
     "user": {
      "displayName": "Sheetal Dany",
      "userId": "04513103113688516394"
     },
     "user_tz": 300
    },
    "id": "kAtv_0YwiQyP"
   },
   "outputs": [],
   "source": [
    "# Create a list of all unique words the model has learned for embedding\n",
    "words = list(model_word2vec.wv.index_to_key)\n",
    "word_vectors = {word: model_word2vec.wv[word].tolist() for word in words}"
   ]
  },
  {
   "cell_type": "markdown",
   "id": "BJMfqjPKQIhG",
   "metadata": {
    "id": "BJMfqjPKQIhG"
   },
   "source": [
    "Step 4: Average Vector Calculation"
   ]
  },
  {
   "cell_type": "code",
   "execution_count": null,
   "id": "Hv_9cTO2Z383",
   "metadata": {
    "executionInfo": {
     "elapsed": 31,
     "status": "ok",
     "timestamp": 1753420104352,
     "user": {
      "displayName": "Sheetal Dany",
      "userId": "04513103113688516394"
     },
     "user_tz": 300
    },
    "id": "Hv_9cTO2Z383"
   },
   "outputs": [],
   "source": [
    "# Averaging the word vectors to get sentence encoding. Average all words in the new article to get a single fixed size vector.\n",
    "def average_vector(doc):\n",
    "    vectors = [word_vectors[word] for word in doc.split() if word in word_vectors]\n",
    "    return np.mean(vectors, axis=0) if vectors else np.zeros(vec_size)"
   ]
  },
  {
   "cell_type": "code",
   "execution_count": null,
   "id": "ru8Fh-YmcJNj",
   "metadata": {
    "executionInfo": {
     "elapsed": 484,
     "status": "ok",
     "timestamp": 1753420104848,
     "user": {
      "displayName": "Sheetal Dany",
      "userId": "04513103113688516394"
     },
     "user_tz": 300
    },
    "id": "ru8Fh-YmcJNj"
   },
   "outputs": [],
   "source": [
    "# Creating a dataframe of the vectorized articles\n",
    "X_train_wv = pd.DataFrame(X_train['News'].apply(average_vector).tolist(), columns=['Feature '+str(i) for i in range(vec_size)])\n",
    "X_test_wv = pd.DataFrame(X_test['News'].apply(average_vector).tolist(), columns=['Feature '+str(i) for i in range(vec_size)])\n",
    "\n"
   ]
  },
  {
   "cell_type": "code",
   "execution_count": null,
   "id": "bH8Xr6B2dVEa",
   "metadata": {
    "colab": {
     "base_uri": "https://localhost:8080/"
    },
    "executionInfo": {
     "elapsed": 10,
     "status": "ok",
     "timestamp": 1753420104860,
     "user": {
      "displayName": "Sheetal Dany",
      "userId": "04513103113688516394"
     },
     "user_tz": 300
    },
    "id": "bH8Xr6B2dVEa",
    "outputId": "2d23bbee-6b93-46b6-8aaa-90f04a2a5ff1"
   },
   "outputs": [],
   "source": [
    "# Check the shape of the data\n",
    "print(X_train_wv.shape)\n",
    "print(X_test_wv.shape)"
   ]
  },
  {
   "cell_type": "markdown",
   "id": "a3GUvne0hyPx",
   "metadata": {
    "id": "a3GUvne0hyPx"
   },
   "source": [
    "### **Text embedding using Sentence Transformer**"
   ]
  },
  {
   "cell_type": "markdown",
   "id": "U8pkPfJRgnkL",
   "metadata": {
    "id": "U8pkPfJRgnkL"
   },
   "source": [
    "**Define the Model**"
   ]
  },
  {
   "cell_type": "code",
   "execution_count": null,
   "id": "PDoVASESSa-l",
   "metadata": {
    "executionInfo": {
     "elapsed": 1130,
     "status": "ok",
     "timestamp": 1753420105988,
     "user": {
      "displayName": "Sheetal Dany",
      "userId": "04513103113688516394"
     },
     "user_tz": 300
    },
    "id": "PDoVASESSa-l"
   },
   "outputs": [],
   "source": [
    "# Define the model\n",
    "# model = SentenceTransformer('sentence-transformers/all-MiniLM-L6-v2')\n",
    "model = SentenceTransformer('sentence-transformers/all-mpnet-base-v2')"
   ]
  },
  {
   "cell_type": "markdown",
   "id": "mCuQRe-MgsBZ",
   "metadata": {
    "id": "mCuQRe-MgsBZ"
   },
   "source": [
    "**Encoding the data**"
   ]
  },
  {
   "cell_type": "code",
   "execution_count": null,
   "id": "_3D40hJwgyjy",
   "metadata": {
    "colab": {
     "base_uri": "https://localhost:8080/",
     "height": 0,
     "referenced_widgets": [
      "df154edc84db40a1b67640d7909a9a68",
      "c369f05e42cd4559998b94898cbfbafc",
      "a694c3f681e24bc89a94924addbd386e",
      "6b942a38d8b8492eacf1a5ef1bc7adc0",
      "b9c299be78a74c458a105dc808623a58",
      "0ba4d8f79fd5431ca218ece45140f3ff",
      "5992147fc58e4237a459da415d4886a6",
      "b17c990477cb430c957196af3402e088",
      "9738e2b841724f058497eb001d3bb07d",
      "36d9bee188e9484e8c12819c7b691121",
      "cdbdf055526142bdbb4e393faf60dbf0",
      "2ed222ff7dd343be92f81832f9b3f3af",
      "9792c3609ef74a308b87139378a2fc0e",
      "0ded46c6135548979c3e70aed2ecafd0",
      "36933099f8734a9fb2a1192c25b3b344",
      "239be1a02940488a81cc61d79f4108dd",
      "8a4feedef9984f3c8eda77dc606127c4",
      "c16591ec91514f39892b0335461b968c",
      "e1284ae9f38b4ff6a7caef5ec4a574b9",
      "1ffbe8a3b5f845398a9e4c3136d5a5e2",
      "43bdc575c73b4dfb88e2cf541d14db86",
      "36861d7b4ca74441b6cd093bd822bf72"
     ]
    },
    "executionInfo": {
     "elapsed": 101083,
     "status": "ok",
     "timestamp": 1753420207070,
     "user": {
      "displayName": "Sheetal Dany",
      "userId": "04513103113688516394"
     },
     "user_tz": 300
    },
    "id": "_3D40hJwgyjy",
    "outputId": "14392c31-7be0-402f-fe35-4f501d12a7aa"
   },
   "outputs": [],
   "source": [
    "# Encoding the dataset\n",
    "X_train_st = model.encode(X_train['News'].values, show_progress_bar=True)\n",
    "X_test_st = model.encode(X_test['News'].values, show_progress_bar=True)"
   ]
  },
  {
   "cell_type": "code",
   "execution_count": null,
   "id": "Ut0FTp-xzqkx",
   "metadata": {
    "colab": {
     "base_uri": "https://localhost:8080/"
    },
    "executionInfo": {
     "elapsed": 10,
     "status": "ok",
     "timestamp": 1753420207081,
     "user": {
      "displayName": "Sheetal Dany",
      "userId": "04513103113688516394"
     },
     "user_tz": 300
    },
    "id": "Ut0FTp-xzqkx",
    "outputId": "9ef28277-f131-4439-839e-d2de0e3d1250"
   },
   "outputs": [],
   "source": [
    "# Check the shape of the dataframe\n",
    "print(X_train_st.shape)\n",
    "print(X_test_st.shape)"
   ]
  },
  {
   "cell_type": "markdown",
   "id": "f4lwYN5bYmHp",
   "metadata": {
    "id": "f4lwYN5bYmHp"
   },
   "source": [
    "## **Sentiment Analysis**"
   ]
  },
  {
   "cell_type": "markdown",
   "id": "EKmKPd9LUjnJ",
   "metadata": {
    "id": "EKmKPd9LUjnJ"
   },
   "source": [
    "#### **Model Evaluation Criterion**"
   ]
  },
  {
   "cell_type": "markdown",
   "id": "ZkQO_WCCp-pq",
   "metadata": {
    "id": "ZkQO_WCCp-pq"
   },
   "source": [
    "##### **Utility Functions**"
   ]
  },
  {
   "cell_type": "code",
   "execution_count": null,
   "id": "TmpiQb6ohfFv",
   "metadata": {
    "executionInfo": {
     "elapsed": 2,
     "status": "ok",
     "timestamp": 1753420207084,
     "user": {
      "displayName": "Sheetal Dany",
      "userId": "04513103113688516394"
     },
     "user_tz": 300
    },
    "id": "TmpiQb6ohfFv"
   },
   "outputs": [],
   "source": [
    "def plot_confusion_matrix(Actual, target):\n",
    "    \"\"\"\n",
    "    Plot a confusion matrix to visualize the performance of a classification model.\n",
    "\n",
    "    Parameters:\n",
    "    actual (array-like): The true labels.\n",
    "    predicted (array-like): The predicted labels from the model.\n",
    "\n",
    "    Returns:\n",
    "    None: Displays the confusion matrix plot.\n",
    "    \"\"\"\n",
    "\n",
    "    # Compute the confusion matrix.\n",
    "    cm = confusion_matrix(target, Actual)\n",
    "\n",
    "    # Create a new figure with a specified size\n",
    "    plt.figure(figsize=(5, 4))\n",
    "\n",
    "    # Define the labels for the confusion matrix\n",
    "    label_list = [0, 1,-1]\n",
    "\n",
    "    # Plot the confusion matrix using a heatmap with annotations\n",
    "    sns.heatmap(cm, annot=True, fmt='.0f', cmap='Blues', xticklabels=label_list, yticklabels=label_list)\n",
    "\n",
    "    # Label for the y-axis\n",
    "    plt.ylabel('Actual')\n",
    "\n",
    "    # Label for the x-axis\n",
    "    plt.xlabel('Predicted')\n",
    "\n",
    "    # Title of the plot\n",
    "    plt.title('Confusion Matrix')\n",
    "\n",
    "    # Display the plot\n",
    "    plt.show()"
   ]
  },
  {
   "cell_type": "code",
   "execution_count": null,
   "id": "kGJsSn_SKQpP",
   "metadata": {
    "executionInfo": {
     "elapsed": 1,
     "status": "ok",
     "timestamp": 1753420207086,
     "user": {
      "displayName": "Sheetal Dany",
      "userId": "04513103113688516394"
     },
     "user_tz": 300
    },
    "id": "kGJsSn_SKQpP"
   },
   "outputs": [],
   "source": [
    "def model_performance_classification_sklearn(actual, target):\n",
    "    \"\"\"\n",
    "    Compute various performance metrics for a classification model using sklearn.\n",
    "\n",
    "    Parameters:\n",
    "    model (sklearn classifier): The classification model to evaluate.\n",
    "    predictors (array-like): The independent variables used for predictions.\n",
    "    target (array-like): The true labels for the dependent variable.\n",
    "\n",
    "    Returns:\n",
    "    pandas.DataFrame: A DataFrame containing the computed metrics (Accuracy, Recall, Precision, F1-score).\n",
    "    \"\"\"\n",
    "\n",
    "    # Compute Accuracy\n",
    "    acc = accuracy_score(target, actual)\n",
    "    # Compute Recall\n",
    "    recall = recall_score(target, actual,average='weighted')\n",
    "    # Compute Precision\n",
    "    precision = precision_score(target, actual,average='weighted')\n",
    "    # Compute F1-score\n",
    "    f1 = f1_score(target, actual,average='weighted')\n",
    "\n",
    "    # Create a DataFrame to store the computed metrics\n",
    "    df_perf = pd.DataFrame(\n",
    "        {\n",
    "            \"Accuracy\": [acc],\n",
    "            \"Recall\": [recall],\n",
    "            \"Precision\": [precision],\n",
    "            \"F1\": [f1],\n",
    "        }\n",
    "    )\n",
    "    # Return the DataFrame with the metrics\n",
    "    return df_perf"
   ]
  },
  {
   "cell_type": "markdown",
   "id": "pqg3KJ6TClm1",
   "metadata": {
    "id": "pqg3KJ6TClm1"
   },
   "source": [
    "###**Build Random Forest Models using different text embeddings**\n"
   ]
  },
  {
   "cell_type": "markdown",
   "id": "ER62Yagoi3vY",
   "metadata": {
    "id": "ER62Yagoi3vY"
   },
   "source": [
    "###**Build Random Forest Model using text embedding from Word2Vec**"
   ]
  },
  {
   "cell_type": "code",
   "execution_count": null,
   "id": "STLzE_VviKQX",
   "metadata": {
    "colab": {
     "base_uri": "https://localhost:8080/",
     "height": 80
    },
    "executionInfo": {
     "elapsed": 815,
     "status": "ok",
     "timestamp": 1753420207902,
     "user": {
      "displayName": "Sheetal Dany",
      "userId": "04513103113688516394"
     },
     "user_tz": 300
    },
    "id": "STLzE_VviKQX",
    "outputId": "c476c69b-718e-4a65-bb9d-323162242a2d"
   },
   "outputs": [],
   "source": [
    "# Build the Random Forest Model\n",
    "# n_estimators: the number of trees in the forest\n",
    "# max_depth: the maximum depth of each tree\n",
    "# random_state: seed for random number generator\n",
    "rf_wv = RandomForestClassifier(n_estimators=300,max_depth=3,random_state=42)\n",
    "# Fit the model on training data\n",
    "rf_wv.fit(X_train_wv, y_train)"
   ]
  },
  {
   "cell_type": "markdown",
   "id": "wGHD68I7knAB",
   "metadata": {
    "id": "wGHD68I7knAB"
   },
   "source": [
    "**Check Training and Test Performance**"
   ]
  },
  {
   "cell_type": "code",
   "execution_count": null,
   "id": "CybZEmTwkmSZ",
   "metadata": {
    "executionInfo": {
     "elapsed": 44,
     "status": "ok",
     "timestamp": 1753420207945,
     "user": {
      "displayName": "Sheetal Dany",
      "userId": "04513103113688516394"
     },
     "user_tz": 300
    },
    "id": "CybZEmTwkmSZ"
   },
   "outputs": [],
   "source": [
    "# Predicting on train data\n",
    "y_pred_train = rf_wv.predict(X_train_wv)\n",
    "\n",
    "# Predicting on test data\n",
    "y_pred_test = rf_wv.predict(X_test_wv)"
   ]
  },
  {
   "cell_type": "markdown",
   "id": "E1ZD1QXFl4uG",
   "metadata": {
    "id": "E1ZD1QXFl4uG"
   },
   "source": [
    "**Confusion Matrix**"
   ]
  },
  {
   "cell_type": "code",
   "execution_count": null,
   "id": "TfWSd28qmRim",
   "metadata": {
    "colab": {
     "base_uri": "https://localhost:8080/",
     "height": 410
    },
    "executionInfo": {
     "elapsed": 218,
     "status": "ok",
     "timestamp": 1753420208165,
     "user": {
      "displayName": "Sheetal Dany",
      "userId": "04513103113688516394"
     },
     "user_tz": 300
    },
    "id": "TfWSd28qmRim",
    "outputId": "90aa0742-e740-4c32-8363-789cf60e48b9"
   },
   "outputs": [],
   "source": [
    "# Plot confusion matrix of train data\n",
    "plot_confusion_matrix(y_train,y_pred_train)"
   ]
  },
  {
   "cell_type": "markdown",
   "id": "sJJyyTGv0rRk",
   "metadata": {
    "id": "sJJyyTGv0rRk"
   },
   "source": [
    "* Model overpredicts positive sentiments.\n",
    "* 47 actual positive sentiments were identified as neutral.\n",
    "* 60 actual positive sentiments were identified as negative.\n",
    "* Very few Negative sentiments were correctly identified as Negative. This suggests too few examples of negative sentiments in the training data.\n",
    "\n"
   ]
  },
  {
   "cell_type": "code",
   "execution_count": null,
   "id": "xF-w3oTsl8SX",
   "metadata": {
    "colab": {
     "base_uri": "https://localhost:8080/",
     "height": 410
    },
    "executionInfo": {
     "elapsed": 200,
     "status": "ok",
     "timestamp": 1753420208367,
     "user": {
      "displayName": "Sheetal Dany",
      "userId": "04513103113688516394"
     },
     "user_tz": 300
    },
    "id": "xF-w3oTsl8SX",
    "outputId": "71c4c293-9c55-42a2-a5b9-2c44640c196d"
   },
   "outputs": [],
   "source": [
    "# Plot confusion matrix of test data\n",
    "plot_confusion_matrix(y_test,y_pred_test)"
   ]
  },
  {
   "cell_type": "markdown",
   "id": "fqGN7y87neYw",
   "metadata": {
    "id": "fqGN7y87neYw"
   },
   "source": [
    "* There are no predictions for negative sentiments. This means the model has failed to predict negative sentiments on unseen data.\n",
    "* 16 positive sentiments misclassified as neutral sentiments\n",
    "* 28 postive sentiments were corrctly identified as positive sentiments\n",
    "* 13 positive sentiments were misclassified as negative sentiments.\n"
   ]
  },
  {
   "cell_type": "markdown",
   "id": "6xUcpiBQoK_4",
   "metadata": {
    "id": "6xUcpiBQoK_4"
   },
   "source": [
    "**Classification Report**"
   ]
  },
  {
   "cell_type": "code",
   "execution_count": null,
   "id": "ZpM5E85_oOe1",
   "metadata": {
    "colab": {
     "base_uri": "https://localhost:8080/"
    },
    "executionInfo": {
     "elapsed": 31,
     "status": "ok",
     "timestamp": 1753420208400,
     "user": {
      "displayName": "Sheetal Dany",
      "userId": "04513103113688516394"
     },
     "user_tz": 300
    },
    "id": "ZpM5E85_oOe1",
    "outputId": "0f6c1d6a-343c-469a-9059-caec45cf993e"
   },
   "outputs": [],
   "source": [
    "# Calculate the key evaluation matrix on train data\n",
    "rf_wv_train_performance = model_performance_classification_sklearn(y_pred_train, y_train)\n",
    "print(\"rf_wv_Training_Performance:\\n\",rf_wv_train_performance)\n",
    "\n",
    "# Calculate the key evaluation matrix on train data\n",
    "rf_wv_test_performance = model_performance_classification_sklearn(y_pred_test, y_test)\n",
    "print(\"rf_wv_Test_Performance:\\n\",rf_wv_test_performance)"
   ]
  },
  {
   "cell_type": "markdown",
   "id": "h0nZR-1nqEtI",
   "metadata": {
    "id": "h0nZR-1nqEtI"
   },
   "source": [
    "**Training Performance:** Accuracy is 60% and precision is 52%. Suggesting better generalization.  \n",
    "**Test Performance:** Accuracy of 46% and Precision is low 29%, meaning some predictions are incorrect.\n",
    "\n",
    "**Tuning applied**\n",
    "n_estimators = 300 and max_depth = 3\n",
    "* rf_wv_Training_Performance:\n",
    "* Accuracy = 60%\n",
    "* Precision  = 52%\n",
    "* F1 score = .51\n",
    "* rf_wv_Test_Performance:\n",
    "Accuracy = 46%\n",
    "* Precision  = 29%\n",
    "* F1 score = .34\n",
    "--------------------------------------\n",
    "n_estimators = 300 and max_depth = 5\n",
    "* rf_wv_Training_Performance:\n",
    "* Accuracy = 89%\n",
    "* Precision  = 91%\n",
    "* F1 score = .89\n",
    "* rf_wv_Test_Performance:\n",
    "* Accuracy = 43%\n",
    "* Precision  = 27%\n",
    "* F1 score = .33\n",
    "\n",
    "--------------------------------------\n",
    "n_estimators = 300 and max_depth = 7\n",
    "* rf_wv_Training_Performance:\n",
    "* Accuracy = 100%\n",
    "* Precision  = 100%\n",
    "* F1 score = 1\n",
    "* rf_wv_Test_Performance:\n",
    "* Accuracy = 46%\n",
    "* Precision  = 32%\n",
    "* F1 score = .36\n"
   ]
  },
  {
   "cell_type": "markdown",
   "id": "6fiHjUQ04r51",
   "metadata": {
    "id": "6fiHjUQ04r51"
   },
   "source": [
    "Based on the hyperparameter tuning applied, a max depth of 3 and n_estimators = 300 seem to be more balanced and giving best generalization."
   ]
  },
  {
   "cell_type": "markdown",
   "id": "sCLzahgLu0Xf",
   "metadata": {
    "id": "sCLzahgLu0Xf"
   },
   "source": [
    "###**Build Random Forest Model using text embedding from Sentence Transformer**\n"
   ]
  },
  {
   "cell_type": "code",
   "execution_count": null,
   "id": "P6cra3z-u-Sl",
   "metadata": {
    "colab": {
     "base_uri": "https://localhost:8080/",
     "height": 80
    },
    "executionInfo": {
     "elapsed": 1558,
     "status": "ok",
     "timestamp": 1753420209961,
     "user": {
      "displayName": "Sheetal Dany",
      "userId": "04513103113688516394"
     },
     "user_tz": 300
    },
    "id": "P6cra3z-u-Sl",
    "outputId": "477961c0-0c53-441a-b6a8-4f75a7ee5878"
   },
   "outputs": [],
   "source": [
    "# Build the model\n",
    "rf_st = RandomForestClassifier(n_estimators=300,max_depth=5,random_state=42)\n",
    "# Fit the model on training data\n",
    "rf_st.fit(X_train_st, y_train)"
   ]
  },
  {
   "cell_type": "markdown",
   "id": "X9MxelZEvQ5M",
   "metadata": {
    "id": "X9MxelZEvQ5M"
   },
   "source": [
    "**Check Training and Test Performance**"
   ]
  },
  {
   "cell_type": "code",
   "execution_count": null,
   "id": "dH0qNGl8vZ6d",
   "metadata": {
    "executionInfo": {
     "elapsed": 59,
     "status": "ok",
     "timestamp": 1753420210021,
     "user": {
      "displayName": "Sheetal Dany",
      "userId": "04513103113688516394"
     },
     "user_tz": 300
    },
    "id": "dH0qNGl8vZ6d"
   },
   "outputs": [],
   "source": [
    "# Predict on train data\n",
    "y_pred_train = rf_st.predict(X_train_st)\n",
    "\n",
    "# Predict on test data\n",
    "y_pred_test = rf_st.predict(X_test_st)"
   ]
  },
  {
   "cell_type": "markdown",
   "id": "S2zSNSNDvl3l",
   "metadata": {
    "id": "S2zSNSNDvl3l"
   },
   "source": [
    "**Confusion Matrix**"
   ]
  },
  {
   "cell_type": "code",
   "execution_count": null,
   "id": "JwllKNZBvovd",
   "metadata": {
    "colab": {
     "base_uri": "https://localhost:8080/",
     "height": 410
    },
    "executionInfo": {
     "elapsed": 275,
     "status": "ok",
     "timestamp": 1753420210299,
     "user": {
      "displayName": "Sheetal Dany",
      "userId": "04513103113688516394"
     },
     "user_tz": 300
    },
    "id": "JwllKNZBvovd",
    "outputId": "67feaace-8481-4639-8833-372f2778cc81"
   },
   "outputs": [],
   "source": [
    "# Plot confusion matrix of train data\n",
    "plot_confusion_matrix(y_train,y_pred_train)\n"
   ]
  },
  {
   "cell_type": "markdown",
   "id": "YNOc9lpOGqQj",
   "metadata": {
    "id": "YNOc9lpOGqQj"
   },
   "source": [
    "* There is high accuracy in the classification of Neutral and negative sentiments on training data\n",
    "* Most positive sentiments have also been correctly identified as positive\n"
   ]
  },
  {
   "cell_type": "code",
   "execution_count": null,
   "id": "AToDEBzjvuks",
   "metadata": {
    "colab": {
     "base_uri": "https://localhost:8080/",
     "height": 410
    },
    "executionInfo": {
     "elapsed": 288,
     "status": "ok",
     "timestamp": 1753420210588,
     "user": {
      "displayName": "Sheetal Dany",
      "userId": "04513103113688516394"
     },
     "user_tz": 300
    },
    "id": "AToDEBzjvuks",
    "outputId": "0666de6e-574a-46cd-ae60-5162a07bf8e9"
   },
   "outputs": [],
   "source": [
    "# Plot confusion matrix of test data\n",
    "plot_confusion_matrix(y_test,y_pred_test)"
   ]
  },
  {
   "cell_type": "markdown",
   "id": "YVUOTf_aIR8N",
   "metadata": {
    "id": "YVUOTf_aIR8N"
   },
   "source": [
    "* Neutral sentiments has been identified correctly as Neutral. But only very little data.\n",
    "* No negative sentiments.\n",
    "* Of the 61 positive sentiment, only 32 were correctly identified. So model struggles to learn for positive sentiments.\n",
    "* This might be due to class imbalance, not having enough data in all classes.\n",
    "\n"
   ]
  },
  {
   "cell_type": "markdown",
   "id": "httXl9WuwCGU",
   "metadata": {
    "id": "httXl9WuwCGU"
   },
   "source": [
    "**Classification Report**"
   ]
  },
  {
   "cell_type": "code",
   "execution_count": null,
   "id": "vfAxw00fwIwc",
   "metadata": {
    "colab": {
     "base_uri": "https://localhost:8080/"
    },
    "executionInfo": {
     "elapsed": 30,
     "status": "ok",
     "timestamp": 1753420210629,
     "user": {
      "displayName": "Sheetal Dany",
      "userId": "04513103113688516394"
     },
     "user_tz": 300
    },
    "id": "vfAxw00fwIwc",
    "outputId": "eea92eef-412f-4b01-8910-efb5760fed35"
   },
   "outputs": [],
   "source": [
    "# Calculate the key evaluation matrix on train data\n",
    "rf_st_train_performance = model_performance_classification_sklearn(y_pred_train, y_train)\n",
    "print(\"rf_st_Training_Performance:\\n\",rf_st_train_performance)\n",
    "\n",
    "# Calculate the key evaluation matrix on test data\n",
    "rf_st_test_performance = model_performance_classification_sklearn(y_pred_test, y_test)\n",
    "print(\"rf_st_Test_Performance:\\n\",rf_st_test_performance)"
   ]
  },
  {
   "cell_type": "markdown",
   "id": "qG7rd734LfEi",
   "metadata": {
    "id": "qG7rd734LfEi"
   },
   "source": [
    "**Training Performance**:\n",
    "Accuracy is 98% and precision is 98%. Suggesting better generalization.\n",
    "\n",
    "**Test Performance**: Accuracy of 54% and Precision is 54%, meaning some predictions are incorrect.\n",
    "\n",
    "\n",
    "--------------------------------------\n",
    "n_estimators = 300 and max_depth = 5\n",
    "* rf_wv_Training_Performance:\n",
    "* Accuracy = 98%\n",
    "* Precision  = 98%\n",
    "* F1 score = .98\n",
    "* rf_wv_Test_Performance:\n",
    "* Accuracy = 54%\n",
    "* Precision  = 54%\n",
    "* F1 score = .41\n",
    "--------------------------------------\n",
    "n_estimators = 300 and max_depth = 3\n",
    "* rf_wv_Training_Performance:\n",
    "* Accuracy = 69%\n",
    "* Precision  = 80%\n",
    "* F1 score = .65\n",
    "* rf_wv_Test_Performance:\n",
    "Accuracy = 52%\n",
    "* Precision  = 53%\n",
    "* F1 score = .38\n",
    "\n",
    "\n",
    "--------------------------------------\n",
    "n_estimators = 300 and max_depth = 7\n",
    "* rf_wv_Training_Performance:\n",
    "* Accuracy = 100%\n",
    "* Precision  = 100%\n",
    "* F1 score = 1\n",
    "* rf_wv_Test_Performance:\n",
    "* Accuracy = 54%\n",
    "* Precision  = 54%\n",
    "* F1 score = .41\n",
    "--------------------------------------\n",
    "n_estimators = 300 and max_depth = 10\n",
    "Overfitting"
   ]
  },
  {
   "cell_type": "markdown",
   "id": "DHgj_cCm2pIn",
   "metadata": {
    "id": "DHgj_cCm2pIn"
   },
   "source": [
    "### **Build Neural Network Models using different text embeddings**"
   ]
  },
  {
   "cell_type": "markdown",
   "id": "yKHHXAHvORxf",
   "metadata": {
    "id": "yKHHXAHvORxf"
   },
   "source": [
    "###**Build Neural Network Model using text embedding from Word2Vec**"
   ]
  },
  {
   "cell_type": "code",
   "execution_count": null,
   "id": "4rqA7vPBiLnj",
   "metadata": {
    "executionInfo": {
     "elapsed": 44,
     "status": "ok",
     "timestamp": 1753420210682,
     "user": {
      "displayName": "Sheetal Dany",
      "userId": "04513103113688516394"
     },
     "user_tz": 300
    },
    "id": "4rqA7vPBiLnj"
   },
   "outputs": [],
   "source": [
    "# Map the labels\n",
    "label_mapping = {1: 2, 0: 1, -1: 0}\n",
    "\n",
    "y_train_mapped_wv = y_train.map(label_mapping)\n",
    "y_test_mapped_wv = y_test.map(label_mapping)\n",
    "\n",
    "# Convert features Dataframe to a numpy array\n",
    "X_train_wv_np = np.array(X_train_wv)\n",
    "X_test_wv_np = np.array(X_test_wv)\n",
    "y_train_mapped_wv = np.array(y_train_mapped_wv)\n",
    "y_test_mapped_wv = np.array(y_test_mapped_wv)"
   ]
  },
  {
   "cell_type": "code",
   "execution_count": null,
   "id": "sEzWcaIiSdFS",
   "metadata": {
    "colab": {
     "base_uri": "https://localhost:8080/"
    },
    "executionInfo": {
     "elapsed": 15,
     "status": "ok",
     "timestamp": 1753420210699,
     "user": {
      "displayName": "Sheetal Dany",
      "userId": "04513103113688516394"
     },
     "user_tz": 300
    },
    "id": "sEzWcaIiSdFS",
    "outputId": "856ca814-094f-4b92-9dec-726130388776"
   },
   "outputs": [],
   "source": [
    "# Check the shape after converting to array\n",
    "print(X_train_wv_np.shape)\n",
    "print(X_test_wv_np.shape)\n",
    "print(y_train_mapped_wv.shape)\n",
    "print(y_test_mapped_wv.shape)"
   ]
  },
  {
   "cell_type": "code",
   "execution_count": null,
   "id": "daRySi3GVH6k",
   "metadata": {
    "colab": {
     "base_uri": "https://localhost:8080/"
    },
    "executionInfo": {
     "elapsed": 7,
     "status": "ok",
     "timestamp": 1753420210699,
     "user": {
      "displayName": "Sheetal Dany",
      "userId": "04513103113688516394"
     },
     "user_tz": 300
    },
    "id": "daRySi3GVH6k",
    "outputId": "e1ba86f3-382d-4502-c260-9fd32a49c032"
   },
   "outputs": [],
   "source": [
    "# Check the number of features in the input vector\n",
    "X_train_wv_np.shape[1]"
   ]
  },
  {
   "cell_type": "code",
   "execution_count": null,
   "id": "Oe0e3s54UeX8",
   "metadata": {
    "colab": {
     "base_uri": "https://localhost:8080/",
     "height": 340
    },
    "executionInfo": {
     "elapsed": 1563,
     "status": "ok",
     "timestamp": 1753420212260,
     "user": {
      "displayName": "Sheetal Dany",
      "userId": "04513103113688516394"
     },
     "user_tz": 300
    },
    "id": "Oe0e3s54UeX8",
    "outputId": "34efe926-93bf-4b81-c6ab-ddfd2d9a58ad"
   },
   "outputs": [],
   "source": [
    "import gc\n",
    "\n",
    "# Clear tensorflow/keras previous session\n",
    "tf.keras.backend.clear_session()\n",
    "gc.collect()\n",
    "\n",
    "# Define Model\n",
    "model_wv = Sequential()\n",
    "\n",
    "# Input Layer: Input layer units = number of features in your input vector = vec_size\n",
    "model_wv.add(Dense(128, input_dim=vec_size, activation='relu'))\n",
    "\n",
    "# Dropout layer: To reduce overfitting set the dropout rate between .2 - .5\n",
    "model_wv.add(Dropout(0.3))\n",
    "\n",
    "# Hidden Layer 1\n",
    "model_wv.add(Dense(64, activation='relu'))\n",
    "# Dropout layer: To reduce overfitting set the dropout rate between .2 - .5\n",
    "model_wv.add(Dropout(0.3))\n",
    "\n",
    "# Hidden Layer 2\n",
    "model_wv.add(Dense(32, activation='relu'))\n",
    "\n",
    "# Output Layer:\n",
    "model_wv.add(Dense(3, activation='softmax'))\n",
    "\n",
    "# Compile the model\n",
    "model_wv.compile(loss='sparse_categorical_crossentropy', optimizer='adam', metrics=['accuracy'])\n",
    "\n",
    "# Print model summary\n",
    "model_wv.summary()"
   ]
  },
  {
   "cell_type": "code",
   "execution_count": null,
   "id": "1Jk5m0TZX2Gh",
   "metadata": {
    "colab": {
     "base_uri": "https://localhost:8080/"
    },
    "executionInfo": {
     "elapsed": 3450,
     "status": "ok",
     "timestamp": 1753420215711,
     "user": {
      "displayName": "Sheetal Dany",
      "userId": "04513103113688516394"
     },
     "user_tz": 300
    },
    "id": "1Jk5m0TZX2Gh",
    "outputId": "2fa635ca-90fa-4065-82cb-5ab719932c4a"
   },
   "outputs": [],
   "source": [
    "# Fit model on training data\n",
    "# - epochs: number of times the model will see the entire training data (typically 5 to 50)\n",
    "# - batch_size: number of samples the model will process before updating weights (commonly 16 to 128)\n",
    "history = model_wv.fit(\n",
    "    X_train_wv_np, y_train_mapped_wv,\n",
    "    validation_data=(X_test_wv_np, y_test_mapped_wv),\n",
    "    epochs=10,\n",
    "    batch_size=32\n",
    ")"
   ]
  },
  {
   "cell_type": "markdown",
   "id": "IVsiXmvtRxuF",
   "metadata": {
    "id": "IVsiXmvtRxuF"
   },
   "source": [
    "**Check Training and Test Performance**"
   ]
  },
  {
   "cell_type": "code",
   "execution_count": null,
   "id": "B8a_7uGGSDmc",
   "metadata": {
    "colab": {
     "base_uri": "https://localhost:8080/"
    },
    "executionInfo": {
     "elapsed": 209,
     "status": "ok",
     "timestamp": 1753420215921,
     "user": {
      "displayName": "Sheetal Dany",
      "userId": "04513103113688516394"
     },
     "user_tz": 300
    },
    "id": "B8a_7uGGSDmc",
    "outputId": "6d2dd208-8e3d-4832-81ee-1287f60e81a0"
   },
   "outputs": [],
   "source": [
    "# Predict probabilities on training data\n",
    "y_train_pred_probs = model_wv.predict(X_train_wv_np)\n",
    "\n",
    "# Convert probabilities to labels\n",
    "y_train_preds = tf.argmax(y_train_pred_probs, axis=1).numpy()"
   ]
  },
  {
   "cell_type": "code",
   "execution_count": null,
   "id": "HYKaKRSCTniE",
   "metadata": {
    "colab": {
     "base_uri": "https://localhost:8080/"
    },
    "executionInfo": {
     "elapsed": 118,
     "status": "ok",
     "timestamp": 1753420216049,
     "user": {
      "displayName": "Sheetal Dany",
      "userId": "04513103113688516394"
     },
     "user_tz": 300
    },
    "id": "HYKaKRSCTniE",
    "outputId": "d012ac6c-776d-42d6-a576-103d75ca8a5e"
   },
   "outputs": [],
   "source": [
    "# Predict probabilities on test data\n",
    "y_test_pred_probs = model_wv.predict(X_test_wv_np)\n",
    "\n",
    "# Convert probabilities to labels\n",
    "y_test_preds = tf.argmax(y_test_pred_probs, axis=1).numpy()"
   ]
  },
  {
   "cell_type": "code",
   "execution_count": null,
   "id": "OiTMQ4vmTwLc",
   "metadata": {
    "executionInfo": {
     "elapsed": 44,
     "status": "ok",
     "timestamp": 1753420216094,
     "user": {
      "displayName": "Sheetal Dany",
      "userId": "04513103113688516394"
     },
     "user_tz": 300
    },
    "id": "OiTMQ4vmTwLc"
   },
   "outputs": [],
   "source": [
    "# Convert back to [-1, 0, 1] to match utility function expectations\n",
    "label_mapping = {2: 1, 1: 0, 0: -1}\n",
    "\n",
    "y_train_preds = np.array([label_mapping[index] for index in y_train_preds])\n",
    "y_test_preds = np.array([label_mapping[index] for index in y_test_preds])"
   ]
  },
  {
   "cell_type": "markdown",
   "id": "FdGRv3vPVkLU",
   "metadata": {
    "id": "FdGRv3vPVkLU"
   },
   "source": [
    "**Confusion Matrix**"
   ]
  },
  {
   "cell_type": "code",
   "execution_count": null,
   "id": "RAjjZPXMVoRr",
   "metadata": {
    "colab": {
     "base_uri": "https://localhost:8080/",
     "height": 410
    },
    "executionInfo": {
     "elapsed": 201,
     "status": "ok",
     "timestamp": 1753420216294,
     "user": {
      "displayName": "Sheetal Dany",
      "userId": "04513103113688516394"
     },
     "user_tz": 300
    },
    "id": "RAjjZPXMVoRr",
    "outputId": "7318b051-a115-401f-c27a-4a500a8c5059"
   },
   "outputs": [],
   "source": [
    "# Plot confusion matrix for train data\n",
    "plot_confusion_matrix(y_train_mapped_wv,y_train_preds)"
   ]
  },
  {
   "cell_type": "markdown",
   "id": "N1M0BgbyXeca",
   "metadata": {
    "id": "N1M0BgbyXeca"
   },
   "source": [
    "* Only the Neutral sentiments are being predicted correctly.\n",
    "* Model failed to predict Positive and Negative sentiments."
   ]
  },
  {
   "cell_type": "code",
   "execution_count": null,
   "id": "py4E7hR-XRTD",
   "metadata": {
    "colab": {
     "base_uri": "https://localhost:8080/",
     "height": 410
    },
    "executionInfo": {
     "elapsed": 169,
     "status": "ok",
     "timestamp": 1753420216462,
     "user": {
      "displayName": "Sheetal Dany",
      "userId": "04513103113688516394"
     },
     "user_tz": 300
    },
    "id": "py4E7hR-XRTD",
    "outputId": "1d787fec-d3d6-470e-84eb-ccd5e0c7882d"
   },
   "outputs": [],
   "source": [
    "# Plot confusion matrix for test data\n",
    "plot_confusion_matrix(y_test_mapped_wv,y_test_preds)"
   ]
  },
  {
   "cell_type": "markdown",
   "id": "5f3FyO9OXzJK",
   "metadata": {
    "id": "5f3FyO9OXzJK"
   },
   "source": [
    "* Only the Neutral sentiments are being predicted correct on the test data, classifying everything as neutral.\n",
    "* Model failed to predict positive and negative for test data."
   ]
  },
  {
   "cell_type": "markdown",
   "id": "BzfzgKHNYD6i",
   "metadata": {
    "id": "BzfzgKHNYD6i"
   },
   "source": [
    "**Classification Report**"
   ]
  },
  {
   "cell_type": "code",
   "execution_count": null,
   "id": "AdAQByu1YCrq",
   "metadata": {
    "colab": {
     "base_uri": "https://localhost:8080/"
    },
    "executionInfo": {
     "elapsed": 52,
     "status": "ok",
     "timestamp": 1753420216515,
     "user": {
      "displayName": "Sheetal Dany",
      "userId": "04513103113688516394"
     },
     "user_tz": 300
    },
    "id": "AdAQByu1YCrq",
    "outputId": "8719ee87-cd17-4d00-b1a0-4e9d6dcdcd2f"
   },
   "outputs": [],
   "source": [
    "# Calculate the key evaluation matrix on train data\n",
    "NN_train_wv_performance = model_performance_classification_sklearn(y_train_preds, y_train_mapped_wv)\n",
    "print(\"NN_train_wv_performance:\\n\",NN_train_wv_performance)\n",
    "\n",
    "# Calculate the key evaluation matrix on test data\n",
    "NN_test_wv_performance = model_performance_classification_sklearn(y_test_preds, y_test_mapped_wv)\n",
    "print(\"NN_test_wv_performance:\\n\",NN_test_wv_performance)"
   ]
  },
  {
   "cell_type": "markdown",
   "id": "9NOxaBySY9p7",
   "metadata": {
    "id": "9NOxaBySY9p7"
   },
   "source": [
    "**Training data**: Model is performing poor on train data. Model struggles to learn meaningful patterns.\n",
    "Accuracy - 29%\n",
    "Precision - 29%\n",
    "F1-Score - .13\n",
    "\n",
    "**Test Data:** Model is performing poor on test data also. Model struggle sto learn meaningful patterns.\n",
    "Accuracy - 27%\n",
    "Precision - 27%\n",
    "F1-Score - .11"
   ]
  },
  {
   "cell_type": "markdown",
   "id": "qGmZcMVKZpAy",
   "metadata": {
    "id": "qGmZcMVKZpAy"
   },
   "source": [
    "###**Build Neural Network Model using text embedding from Sentence Transformer**"
   ]
  },
  {
   "cell_type": "code",
   "execution_count": null,
   "id": "O2OgVcelZ_KC",
   "metadata": {
    "executionInfo": {
     "elapsed": 5,
     "status": "ok",
     "timestamp": 1753420486098,
     "user": {
      "displayName": "Sheetal Dany",
      "userId": "04513103113688516394"
     },
     "user_tz": 300
    },
    "id": "O2OgVcelZ_KC"
   },
   "outputs": [],
   "source": [
    "# Map labels\n",
    "label_mapping = {1:2,0:1,-1:0}\n",
    "\n",
    "y_train_mapped_st = y_train.map(label_mapping)\n",
    "y_test_mapped_st = y_test.map(label_mapping)\n",
    "\n",
    "# Convert features Dataframe to a numpy array\n",
    "X_train_st_np = np.array(X_train_st)\n",
    "X_test_st_np = np.array(X_test_st)\n",
    "y_train_mapped_st = np.array(y_train_mapped_st)\n",
    "y_test_mapped_st = np.array(y_test_mapped_st)"
   ]
  },
  {
   "cell_type": "code",
   "execution_count": null,
   "id": "1VSg9bsrX5XE",
   "metadata": {
    "colab": {
     "base_uri": "https://localhost:8080/"
    },
    "executionInfo": {
     "elapsed": 23,
     "status": "ok",
     "timestamp": 1753420489827,
     "user": {
      "displayName": "Sheetal Dany",
      "userId": "04513103113688516394"
     },
     "user_tz": 300
    },
    "id": "1VSg9bsrX5XE",
    "outputId": "b54821f9-ce90-4b6b-bcf2-1ad4c71013ce"
   },
   "outputs": [],
   "source": [
    "from collections import Counter\n",
    "\n",
    "# Count the frequency of each label\n",
    "label_counts = Counter(y_train_mapped_st)\n",
    "\n",
    "# Print the results\n",
    "for label, count in label_counts.items():\n",
    "    print(f\"Label {label}: {count} occurrences\")\n"
   ]
  },
  {
   "cell_type": "markdown",
   "id": "YW4A-GDN13ff",
   "metadata": {
    "id": "YW4A-GDN13ff"
   },
   "source": [
    "This shows that the dataset is imbalanced. Positive snetiments out number the other two sentiments."
   ]
  },
  {
   "cell_type": "code",
   "execution_count": null,
   "id": "B1OVxH3yy5JZ",
   "metadata": {
    "colab": {
     "base_uri": "https://localhost:8080/"
    },
    "executionInfo": {
     "elapsed": 8,
     "status": "ok",
     "timestamp": 1753420492168,
     "user": {
      "displayName": "Sheetal Dany",
      "userId": "04513103113688516394"
     },
     "user_tz": 300
    },
    "id": "B1OVxH3yy5JZ",
    "outputId": "50002224-bad9-4412-d205-1d69ae98929c"
   },
   "outputs": [],
   "source": [
    "# Check shape after converting to array\n",
    "print(X_train_st_np.shape)\n",
    "print(X_test_st_np.shape)\n",
    "print(y_train_mapped_st.shape)\n",
    "print(y_test_mapped_st.shape)"
   ]
  },
  {
   "cell_type": "code",
   "execution_count": null,
   "id": "2bFp_j_1yY9v",
   "metadata": {
    "colab": {
     "base_uri": "https://localhost:8080/"
    },
    "executionInfo": {
     "elapsed": 10,
     "status": "ok",
     "timestamp": 1753420494545,
     "user": {
      "displayName": "Sheetal Dany",
      "userId": "04513103113688516394"
     },
     "user_tz": 300
    },
    "id": "2bFp_j_1yY9v",
    "outputId": "b0ba81c4-c7ae-4729-adf7-193779122c59"
   },
   "outputs": [],
   "source": [
    "# Check the number of features in the input vector\n",
    "X_train_st_np.shape[1]"
   ]
  },
  {
   "cell_type": "code",
   "execution_count": null,
   "id": "8IYN1m_U2j2S",
   "metadata": {
    "colab": {
     "base_uri": "https://localhost:8080/"
    },
    "executionInfo": {
     "elapsed": 8,
     "status": "ok",
     "timestamp": 1753420495635,
     "user": {
      "displayName": "Sheetal Dany",
      "userId": "04513103113688516394"
     },
     "user_tz": 300
    },
    "id": "8IYN1m_U2j2S",
    "outputId": "52eafbf5-5178-4d16-f3ef-8aab1acc2947"
   },
   "outputs": [],
   "source": [
    "from sklearn.utils.class_weight import compute_class_weight\n",
    "# Compute balanced class weights\n",
    "class_weights = compute_class_weight(\n",
    "    class_weight='balanced',\n",
    "    classes=np.unique(y_train_mapped_st),\n",
    "    y=y_train_mapped_st\n",
    ")\n",
    "# Convert to Dict\n",
    "Class_weight_dict = dict(enumerate(class_weights))\n",
    "Class_weight_dict"
   ]
  },
  {
   "cell_type": "code",
   "execution_count": null,
   "id": "aGIzbK1ca7i5",
   "metadata": {
    "colab": {
     "base_uri": "https://localhost:8080/",
     "height": 306
    },
    "executionInfo": {
     "elapsed": 642,
     "status": "ok",
     "timestamp": 1753420499843,
     "user": {
      "displayName": "Sheetal Dany",
      "userId": "04513103113688516394"
     },
     "user_tz": 300
    },
    "id": "aGIzbK1ca7i5",
    "outputId": "77ee0daa-a467-41c5-b40f-7a623cfaccfa"
   },
   "outputs": [],
   "source": [
    "import gc\n",
    "\n",
    "# Clear any previous TensorFlow/Keras sessions from memory (recommended when re-running cells)\n",
    "tf.keras.backend.clear_session()\n",
    "gc.collect()\n",
    "\n",
    "# Define the model\n",
    "model_st = Sequential()\n",
    "\n",
    "# Input layer: input later size is shape of input data\n",
    "model_st.add(Dense(256, input_dim=768, activation='relu'))\n",
    "\n",
    "# Dropout layer: To reduce overfitting set the dropout rate between .2 - .5\n",
    "model_st.add(Dropout(0.4))\n",
    "\n",
    "# Hidden Layer 1\n",
    "model_st.add(Dense(128, activation='relu'))\n",
    "# Dropout layer: To reduce overfitting set the dropout rate between .2 - .5\n",
    "model_st.add(Dropout(0.3))\n",
    "\n",
    "# Hidden Layer 2\n",
    "#model_st.add(Dense(32, activation='relu'))\n",
    "# Dropout layer: To reduce overfitting set the dropout rate between .2 - .5\n",
    "\n",
    "# Output Layer:\n",
    "model_st.add(Dense(3, activation='softmax'))\n",
    "\n",
    "# Compile the model\n",
    "model_st.compile(loss='sparse_categorical_crossentropy', optimizer='adam', metrics=['accuracy'])\n",
    "\n",
    "# Print model summary\n",
    "model_st.summary()"
   ]
  },
  {
   "cell_type": "code",
   "execution_count": null,
   "id": "cI9VOyMkcOe5",
   "metadata": {
    "colab": {
     "base_uri": "https://localhost:8080/"
    },
    "executionInfo": {
     "elapsed": 5828,
     "status": "ok",
     "timestamp": 1753420619216,
     "user": {
      "displayName": "Sheetal Dany",
      "userId": "04513103113688516394"
     },
     "user_tz": 300
    },
    "id": "cI9VOyMkcOe5",
    "outputId": "6cc4c508-4469-40dc-84c9-cfd990d06e1f"
   },
   "outputs": [],
   "source": [
    "# Fit model on training data\n",
    "# class weights applied o address imbalnce of data\n",
    "history = model_st.fit(\n",
    "    X_train_st_np, y_train_mapped_st,\n",
    "    validation_data=(X_test_st_np, y_test_mapped_st),\n",
    "    epochs=10,\n",
    "    batch_size=32,\n",
    "    class_weight=Class_weight_dict\n",
    ")"
   ]
  },
  {
   "cell_type": "markdown",
   "id": "SL-fCNMi0VdY",
   "metadata": {
    "id": "SL-fCNMi0VdY"
   },
   "source": [
    "**Check Training and Test Performance**"
   ]
  },
  {
   "cell_type": "code",
   "execution_count": null,
   "id": "Y2dQQzZm0ac5",
   "metadata": {
    "colab": {
     "base_uri": "https://localhost:8080/"
    },
    "executionInfo": {
     "elapsed": 245,
     "status": "ok",
     "timestamp": 1753420620745,
     "user": {
      "displayName": "Sheetal Dany",
      "userId": "04513103113688516394"
     },
     "user_tz": 300
    },
    "id": "Y2dQQzZm0ac5",
    "outputId": "aaf164b6-7afe-43b3-ff54-f7aa1e3a22a3"
   },
   "outputs": [],
   "source": [
    "# Predict probabilities on training data\n",
    "y_train_pred_probs = model_st.predict(X_train_st_np)\n",
    "\n",
    "# Convert probabilities to labels\n",
    "y_train_preds = tf.argmax(y_train_pred_probs, axis=1).numpy()"
   ]
  },
  {
   "cell_type": "code",
   "execution_count": null,
   "id": "xh4CWToh0smF",
   "metadata": {
    "colab": {
     "base_uri": "https://localhost:8080/"
    },
    "executionInfo": {
     "elapsed": 120,
     "status": "ok",
     "timestamp": 1753420621981,
     "user": {
      "displayName": "Sheetal Dany",
      "userId": "04513103113688516394"
     },
     "user_tz": 300
    },
    "id": "xh4CWToh0smF",
    "outputId": "9b79582c-fdc4-497f-9f7e-60b7e91fd1df"
   },
   "outputs": [],
   "source": [
    "# Predict probabilities on test data\n",
    "y_test_pred_probs = model_st.predict(X_test_st_np)\n",
    "\n",
    "# Convert probabilities to labels\n",
    "y_test_preds = tf.argmax(y_test_pred_probs, axis=1).numpy()"
   ]
  },
  {
   "cell_type": "code",
   "execution_count": null,
   "id": "ea2xIqw203hY",
   "metadata": {
    "executionInfo": {
     "elapsed": 43,
     "status": "ok",
     "timestamp": 1753420623931,
     "user": {
      "displayName": "Sheetal Dany",
      "userId": "04513103113688516394"
     },
     "user_tz": 300
    },
    "id": "ea2xIqw203hY"
   },
   "outputs": [],
   "source": [
    "# Convert back to [-1, 0, 1] to match utility function expectations\n",
    "#label_mapping = {2:1,1:0,0:-1}\n",
    "\n",
    "#y_train_preds = np.array([label_mapping[index] for index in y_train_preds])\n",
    "#y_test_preds = np.array([label_mapping[index] for index in y_test_preds])\n",
    "\n"
   ]
  },
  {
   "cell_type": "code",
   "execution_count": null,
   "id": "IiRmGRwdXu32",
   "metadata": {
    "colab": {
     "base_uri": "https://localhost:8080/"
    },
    "executionInfo": {
     "elapsed": 9,
     "status": "ok",
     "timestamp": 1753420625903,
     "user": {
      "displayName": "Sheetal Dany",
      "userId": "04513103113688516394"
     },
     "user_tz": 300
    },
    "id": "IiRmGRwdXu32",
    "outputId": "a5bf6e10-ef1f-4c74-f1ff-1380e7db5d43"
   },
   "outputs": [],
   "source": [
    "\n",
    "from collections import Counter\n",
    "\n",
    "# Replace this with your actual predictions\n",
    "# y_train_preds = np.array([...])\n",
    "\n",
    "# Count the frequency of each label\n",
    "label_counts = Counter(y_train_preds)\n",
    "\n",
    "# Print the results\n",
    "for label, count in label_counts.items():\n",
    "    print(f\"Label {label}: {count} occurrences\")\n"
   ]
  },
  {
   "cell_type": "markdown",
   "id": "TH6ZQm8m09-W",
   "metadata": {
    "id": "TH6ZQm8m09-W"
   },
   "source": [
    "**Confusion Matrix**"
   ]
  },
  {
   "cell_type": "code",
   "execution_count": null,
   "id": "rC7CVGfS1Bky",
   "metadata": {
    "colab": {
     "base_uri": "https://localhost:8080/",
     "height": 410
    },
    "executionInfo": {
     "elapsed": 205,
     "status": "ok",
     "timestamp": 1753420628110,
     "user": {
      "displayName": "Sheetal Dany",
      "userId": "04513103113688516394"
     },
     "user_tz": 300
    },
    "id": "rC7CVGfS1Bky",
    "outputId": "8d177f39-00dc-4f60-eb13-462d19701f80"
   },
   "outputs": [],
   "source": [
    "# Plot confusion matrix for train data\n",
    "plot_confusion_matrix(y_train_mapped_st,y_train_preds)\n",
    "#plot_confusion_matrix(y_train,y_train_preds)"
   ]
  },
  {
   "cell_type": "markdown",
   "id": "w87qI49eh01D",
   "metadata": {
    "id": "w87qI49eh01D"
   },
   "source": [
    "* Model performs better diagonally.\n",
    "* Neutral and Negative also has the most misclassifications.\n",
    "* Model has strong classification performance."
   ]
  },
  {
   "cell_type": "code",
   "execution_count": null,
   "id": "W6G9cLkm1PMS",
   "metadata": {
    "colab": {
     "base_uri": "https://localhost:8080/",
     "height": 410
    },
    "executionInfo": {
     "elapsed": 318,
     "status": "ok",
     "timestamp": 1753420630852,
     "user": {
      "displayName": "Sheetal Dany",
      "userId": "04513103113688516394"
     },
     "user_tz": 300
    },
    "id": "W6G9cLkm1PMS",
    "outputId": "5f519653-56c7-4435-f308-8569836eca23"
   },
   "outputs": [],
   "source": [
    "# Plot confusion matrix for test data\n",
    "plot_confusion_matrix(y_test_mapped_st,y_test_preds)\n"
   ]
  },
  {
   "cell_type": "markdown",
   "id": "vsG7SzQiioQu",
   "metadata": {
    "id": "vsG7SzQiioQu"
   },
   "source": [
    "* Model predicts better for positive sentiments. But there are misclassifications.\n",
    "* There is misclassifications of positive sentiments to other categories.\n",
    "* Negative sentiments have many misclassifictaions.\n",
    "* Model has class imbalance."
   ]
  },
  {
   "cell_type": "markdown",
   "id": "4Onl0HeT1jQN",
   "metadata": {
    "id": "4Onl0HeT1jQN"
   },
   "source": [
    "**Classification Report**"
   ]
  },
  {
   "cell_type": "code",
   "execution_count": null,
   "id": "b3gy7DDj1mnm",
   "metadata": {
    "colab": {
     "base_uri": "https://localhost:8080/"
    },
    "executionInfo": {
     "elapsed": 24,
     "status": "ok",
     "timestamp": 1753420634020,
     "user": {
      "displayName": "Sheetal Dany",
      "userId": "04513103113688516394"
     },
     "user_tz": 300
    },
    "id": "b3gy7DDj1mnm",
    "outputId": "aea2690e-00d9-467c-e94e-6d03e599091f"
   },
   "outputs": [],
   "source": [
    "# Calculate the key evaluation matrix on train data\n",
    "NN_train_st_performance = model_performance_classification_sklearn(y_train_preds, y_train_mapped_st)\n",
    "print(\"NN_train_st_performance:\\n\",NN_train_st_performance)\n",
    "\n",
    "# Calculate the key evaluation matrix on test data\n",
    "NN_test_st_performance = model_performance_classification_sklearn(y_test_preds, y_test_mapped_st)\n",
    "print(\"NN_test_st_performance:\\n\",NN_test_st_performance)"
   ]
  },
  {
   "cell_type": "markdown",
   "id": "oXNhBvED17_S",
   "metadata": {
    "id": "oXNhBvED17_S"
   },
   "source": [
    "Training data: Model is performing with high accuracy on train data.\n",
    "Accuracy - 100% Precision - 100% F1-Score - 1\n",
    "\n",
    "Test Data: Model is showing a moderate perofmance on test data also.\n",
    "Accuracy - 43% Precision - 43% F1-Score - .39"
   ]
  },
  {
   "cell_type": "markdown",
   "id": "gsmrYpkrFY2A",
   "metadata": {
    "id": "gsmrYpkrFY2A"
   },
   "source": [
    "### **Model Performance Summary and Final Model Selection**"
   ]
  },
  {
   "cell_type": "code",
   "execution_count": null,
   "id": "q9LcgdCciUX5",
   "metadata": {
    "colab": {
     "base_uri": "https://localhost:8080/"
    },
    "executionInfo": {
     "elapsed": 44,
     "status": "ok",
     "timestamp": 1753420686505,
     "user": {
      "displayName": "Sheetal Dany",
      "userId": "04513103113688516394"
     },
     "user_tz": 300
    },
    "id": "q9LcgdCciUX5",
    "outputId": "c7a0ab9a-aa8e-4edb-a6c4-ea6767f5b816"
   },
   "outputs": [],
   "source": [
    "# Concat the training performance matrix from different models\n",
    "# Transpose performance dataframe to make metric as rows\n",
    "model_train_performance = pd.concat(\n",
    "                            [\n",
    "                            rf_wv_train_performance.T, # Random Forest using Word2Vec embeddings\n",
    "                            rf_st_train_performance.T, # Random Forest with Sentence Transformer embeddings\n",
    "                            NN_train_wv_performance.T, # Neural Network with Word2Vec embeddings\n",
    "                            NN_train_st_performance.T  # Neural Network with Sentence Tranformer embeddings\n",
    "                            ],axis=1)\n",
    "# Assign columns names for the performance matrix\n",
    "model_train_performance.columns = [\n",
    "                            'rf_wv_Training_Performance',\n",
    "                            'rf_st_Training_Performance',\n",
    "                            'NN_wv_Training_Performance',\n",
    "                            'NN_st_Training_Performance'\n",
    "                          ]\n",
    "# Print the training performance matrix\n",
    "print(\"model_train_performance:\\n\",model_train_performance)\n"
   ]
  },
  {
   "cell_type": "markdown",
   "id": "WH6KcGBk4LrB",
   "metadata": {
    "id": "WH6KcGBk4LrB"
   },
   "source": [
    "**rf_st_Training_Performance** and **NN_st_Training_Performance** :\n",
    "- Has the best overall performance.\n",
    "- Shows high accuracy, precision and recall.\n",
    "- But sometime such high score can lead to overfitting\n",
    "\n",
    "**rf_wv_Training_Performance**\n",
    "- Perform moderately well with Accuracy of 60%, Recall 60% and Precision of .52\n",
    "- Balanced recall and F1 score suggest more generalization.\n",
    "\n",
    "**NN_wv_Training_Performance**\n",
    "- Poor performance on traing data.\n",
    "- Model struggles to learn.\n"
   ]
  },
  {
   "cell_type": "code",
   "execution_count": null,
   "id": "FgSbvO5_ivfu",
   "metadata": {
    "colab": {
     "base_uri": "https://localhost:8080/"
    },
    "executionInfo": {
     "elapsed": 13,
     "status": "ok",
     "timestamp": 1753420723426,
     "user": {
      "displayName": "Sheetal Dany",
      "userId": "04513103113688516394"
     },
     "user_tz": 300
    },
    "id": "FgSbvO5_ivfu",
    "outputId": "03b4d9a6-cd97-433e-9e14-4c56d9a73493"
   },
   "outputs": [],
   "source": [
    "# Concat the testing performance matrix from different models\n",
    "# Transpose performance dataframe to make metric as rows\n",
    "model_test_performance = pd.concat(\n",
    "                            [\n",
    "                            rf_wv_test_performance.T, # Random Forest using Word2Vec embeddings\n",
    "                            rf_st_test_performance.T, # Random Forest with Sentence Transformer embeddings\n",
    "                            NN_test_wv_performance.T, # Neural Network with Word2Vec embeddings\n",
    "                            NN_test_st_performance.T  # Neural Network with Sentence Tranformer embeddings\n",
    "                            ],axis=1)\n",
    "# Assign columns names for the performance matrix\n",
    "model_test_performance.columns = [\n",
    "                            'rf_wv_Test_Performance',\n",
    "                            'rf_st_Test_Performance',\n",
    "                            'NN_wv_Test_Performance',\n",
    "                            'NN_st_Test_Performance'\n",
    "                          ]\n",
    "# Print the testing performance matrix\n",
    "print(\"model_test_performance:\\n\",model_test_performance)"
   ]
  },
  {
   "cell_type": "markdown",
   "id": "n7W_2xgc5vDv",
   "metadata": {
    "id": "n7W_2xgc5vDv"
   },
   "source": [
    "**rf_st_Test_Performance** :\n",
    "- Has the best overall performance.\n",
    "- Shows high accuracy 54%, precision 54% and recall .54\n",
    "- No signs of overfitting despite the high training score.\n",
    "\n",
    "**rf_wv_Test_Performance**\n",
    "- Perform moderately well with Accuracy of 46%, Recall 46%\n",
    "- But Precision is 29%\n",
    "\n",
    "**NN_st_Test_Performance**\n",
    "- It is performing better that NN Word2Vec model.\n",
    "- Accuracy of 43% , Precision 43% and F1 score .39 suggest underfitting.\n",
    "\n",
    "**NN_wv_Test_Performance**\n",
    "- Poor performance on test data also.\n",
    "- Model struggles to learn or is underfitting."
   ]
  },
  {
   "cell_type": "markdown",
   "id": "HiOLoD7BO3L-",
   "metadata": {
    "id": "HiOLoD7BO3L-"
   },
   "source": [
    "## **Conclusions and Recommendations**"
   ]
  },
  {
   "cell_type": "markdown",
   "id": "J-O3YEoxocgV",
   "metadata": {
    "id": "J-O3YEoxocgV"
   },
   "source": [
    "**Conclusion**\n",
    "- **1. Best Performing Model (Test Set):**\n",
    "  * **Random Forest with Sentence Transformer Embeddings**\n",
    "\n",
    "    - Test Accuracy: 54%\n",
    "    - Test F1 Score: 0.41\n",
    "    - This model performs best overall and is not over fitting despite high training scores.\n",
    "- **2. 2nd Best Performing Model:**\n",
    "  * **Random Forest with Word2Vec**\n",
    "    -  Random Forest with Word2Vec: 60% training accuracy vs 43% test accuracy\n",
    "\n",
    "- **3. Neural Network Models Underperformed**\n",
    "  - Though NN_ST has high accuracy on training data, test data suggest underfitting.\n",
    "  - NN_W2V show extremely poor accuracy and F1 scores, even on training data. This indicates:\n",
    "    - Not enough data to effectively train NN (deep models usually need more samples)\n",
    "    - Possibly poor hyperparameter settings\n",
    "\n",
    "**Recommendation**\n",
    "- Use Random Forest + Sentence Transformer Embeddings as the primary model for predicting the market sentiment for the start up. As this model is consistent in performance across training and test sets.\n",
    "\n",
    "**Steps taken to improve accuracy**:\n",
    "- Attempted to tune Hyperparameters of Random Forest:\n",
    "  * Max_depth to 7 was tried, but the model was overfitting.\n",
    "  * n_estimators up to 300 was tried. May be can increase up to 500 .\n",
    "  * Attempeted to improve neural network performance by using weighted class to avoid data imbalance.\n",
    "\n",
    "\n",
    "\n",
    "\n",
    "\n"
   ]
  },
  {
   "cell_type": "markdown",
   "id": "CvLbKjeoiabi",
   "metadata": {
    "id": "CvLbKjeoiabi"
   },
   "source": [
    "-"
   ]
  },
  {
   "cell_type": "markdown",
   "id": "uAOPv9oQtWcC",
   "metadata": {
    "id": "uAOPv9oQtWcC"
   },
   "source": [
    "<font size=6 color='blue'>Power Ahead</font>\n",
    "___"
   ]
  }
 ],
 "metadata": {
  "colab": {
   "collapsed_sections": [
    "6QR_RHvIVHT2",
    "Vn6bbxSwVKl3",
    "ZJOtDHVSF5hu",
    "VrFQHcW5mYgv",
    "wQ46zPgumfjF",
    "EvFNfrvGWthn",
    "Q0UlMQnyegl7",
    "hLE0s7OFKilB",
    "N8z4-vOBmwqv",
    "fMn9GLNzOHK8",
    "4IUBFAOTbjju",
    "a3GUvne0hyPx",
    "ZkQO_WCCp-pq",
    "ER62Yagoi3vY",
    "sCLzahgLu0Xf",
    "yKHHXAHvORxf",
    "qGmZcMVKZpAy"
   ],
   "provenance": []
  },
  "kernelspec": {
   "display_name": "Python 3",
   "name": "python3"
  },
  "language_info": {
   "codemirror_mode": {
    "name": "ipython",
    "version": 3
   },
   "file_extension": ".py",
   "mimetype": "text/x-python",
   "name": "python",
   "nbconvert_exporter": "python",
   "pygments_lexer": "ipython3",
   "version": "3.11.5"
  },
  "widgets": {
   "application/vnd.jupyter.widget-state+json": {
    "0ba4d8f79fd5431ca218ece45140f3ff": {
     "model_module": "@jupyter-widgets/base",
     "model_module_version": "1.2.0",
     "model_name": "LayoutModel",
     "state": {
      "_model_module": "@jupyter-widgets/base",
      "_model_module_version": "1.2.0",
      "_model_name": "LayoutModel",
      "_view_count": null,
      "_view_module": "@jupyter-widgets/base",
      "_view_module_version": "1.2.0",
      "_view_name": "LayoutView",
      "align_content": null,
      "align_items": null,
      "align_self": null,
      "border": null,
      "bottom": null,
      "display": null,
      "flex": null,
      "flex_flow": null,
      "grid_area": null,
      "grid_auto_columns": null,
      "grid_auto_flow": null,
      "grid_auto_rows": null,
      "grid_column": null,
      "grid_gap": null,
      "grid_row": null,
      "grid_template_areas": null,
      "grid_template_columns": null,
      "grid_template_rows": null,
      "height": null,
      "justify_content": null,
      "justify_items": null,
      "left": null,
      "margin": null,
      "max_height": null,
      "max_width": null,
      "min_height": null,
      "min_width": null,
      "object_fit": null,
      "object_position": null,
      "order": null,
      "overflow": null,
      "overflow_x": null,
      "overflow_y": null,
      "padding": null,
      "right": null,
      "top": null,
      "visibility": null,
      "width": null
     }
    },
    "0ded46c6135548979c3e70aed2ecafd0": {
     "model_module": "@jupyter-widgets/controls",
     "model_module_version": "1.5.0",
     "model_name": "FloatProgressModel",
     "state": {
      "_dom_classes": [],
      "_model_module": "@jupyter-widgets/controls",
      "_model_module_version": "1.5.0",
      "_model_name": "FloatProgressModel",
      "_view_count": null,
      "_view_module": "@jupyter-widgets/controls",
      "_view_module_version": "1.5.0",
      "_view_name": "ProgressView",
      "bar_style": "success",
      "description": "",
      "description_tooltip": null,
      "layout": "IPY_MODEL_e1284ae9f38b4ff6a7caef5ec4a574b9",
      "max": 2,
      "min": 0,
      "orientation": "horizontal",
      "style": "IPY_MODEL_1ffbe8a3b5f845398a9e4c3136d5a5e2",
      "value": 2
     }
    },
    "1ffbe8a3b5f845398a9e4c3136d5a5e2": {
     "model_module": "@jupyter-widgets/controls",
     "model_module_version": "1.5.0",
     "model_name": "ProgressStyleModel",
     "state": {
      "_model_module": "@jupyter-widgets/controls",
      "_model_module_version": "1.5.0",
      "_model_name": "ProgressStyleModel",
      "_view_count": null,
      "_view_module": "@jupyter-widgets/base",
      "_view_module_version": "1.2.0",
      "_view_name": "StyleView",
      "bar_color": null,
      "description_width": ""
     }
    },
    "239be1a02940488a81cc61d79f4108dd": {
     "model_module": "@jupyter-widgets/base",
     "model_module_version": "1.2.0",
     "model_name": "LayoutModel",
     "state": {
      "_model_module": "@jupyter-widgets/base",
      "_model_module_version": "1.2.0",
      "_model_name": "LayoutModel",
      "_view_count": null,
      "_view_module": "@jupyter-widgets/base",
      "_view_module_version": "1.2.0",
      "_view_name": "LayoutView",
      "align_content": null,
      "align_items": null,
      "align_self": null,
      "border": null,
      "bottom": null,
      "display": null,
      "flex": null,
      "flex_flow": null,
      "grid_area": null,
      "grid_auto_columns": null,
      "grid_auto_flow": null,
      "grid_auto_rows": null,
      "grid_column": null,
      "grid_gap": null,
      "grid_row": null,
      "grid_template_areas": null,
      "grid_template_columns": null,
      "grid_template_rows": null,
      "height": null,
      "justify_content": null,
      "justify_items": null,
      "left": null,
      "margin": null,
      "max_height": null,
      "max_width": null,
      "min_height": null,
      "min_width": null,
      "object_fit": null,
      "object_position": null,
      "order": null,
      "overflow": null,
      "overflow_x": null,
      "overflow_y": null,
      "padding": null,
      "right": null,
      "top": null,
      "visibility": null,
      "width": null
     }
    },
    "2ed222ff7dd343be92f81832f9b3f3af": {
     "model_module": "@jupyter-widgets/controls",
     "model_module_version": "1.5.0",
     "model_name": "HBoxModel",
     "state": {
      "_dom_classes": [],
      "_model_module": "@jupyter-widgets/controls",
      "_model_module_version": "1.5.0",
      "_model_name": "HBoxModel",
      "_view_count": null,
      "_view_module": "@jupyter-widgets/controls",
      "_view_module_version": "1.5.0",
      "_view_name": "HBoxView",
      "box_style": "",
      "children": [
       "IPY_MODEL_9792c3609ef74a308b87139378a2fc0e",
       "IPY_MODEL_0ded46c6135548979c3e70aed2ecafd0",
       "IPY_MODEL_36933099f8734a9fb2a1192c25b3b344"
      ],
      "layout": "IPY_MODEL_239be1a02940488a81cc61d79f4108dd"
     }
    },
    "36861d7b4ca74441b6cd093bd822bf72": {
     "model_module": "@jupyter-widgets/controls",
     "model_module_version": "1.5.0",
     "model_name": "DescriptionStyleModel",
     "state": {
      "_model_module": "@jupyter-widgets/controls",
      "_model_module_version": "1.5.0",
      "_model_name": "DescriptionStyleModel",
      "_view_count": null,
      "_view_module": "@jupyter-widgets/base",
      "_view_module_version": "1.2.0",
      "_view_name": "StyleView",
      "description_width": ""
     }
    },
    "36933099f8734a9fb2a1192c25b3b344": {
     "model_module": "@jupyter-widgets/controls",
     "model_module_version": "1.5.0",
     "model_name": "HTMLModel",
     "state": {
      "_dom_classes": [],
      "_model_module": "@jupyter-widgets/controls",
      "_model_module_version": "1.5.0",
      "_model_name": "HTMLModel",
      "_view_count": null,
      "_view_module": "@jupyter-widgets/controls",
      "_view_module_version": "1.5.0",
      "_view_name": "HTMLView",
      "description": "",
      "description_tooltip": null,
      "layout": "IPY_MODEL_43bdc575c73b4dfb88e2cf541d14db86",
      "placeholder": "​",
      "style": "IPY_MODEL_36861d7b4ca74441b6cd093bd822bf72",
      "value": " 2/2 [00:13&lt;00:00,  6.34s/it]"
     }
    },
    "36d9bee188e9484e8c12819c7b691121": {
     "model_module": "@jupyter-widgets/base",
     "model_module_version": "1.2.0",
     "model_name": "LayoutModel",
     "state": {
      "_model_module": "@jupyter-widgets/base",
      "_model_module_version": "1.2.0",
      "_model_name": "LayoutModel",
      "_view_count": null,
      "_view_module": "@jupyter-widgets/base",
      "_view_module_version": "1.2.0",
      "_view_name": "LayoutView",
      "align_content": null,
      "align_items": null,
      "align_self": null,
      "border": null,
      "bottom": null,
      "display": null,
      "flex": null,
      "flex_flow": null,
      "grid_area": null,
      "grid_auto_columns": null,
      "grid_auto_flow": null,
      "grid_auto_rows": null,
      "grid_column": null,
      "grid_gap": null,
      "grid_row": null,
      "grid_template_areas": null,
      "grid_template_columns": null,
      "grid_template_rows": null,
      "height": null,
      "justify_content": null,
      "justify_items": null,
      "left": null,
      "margin": null,
      "max_height": null,
      "max_width": null,
      "min_height": null,
      "min_width": null,
      "object_fit": null,
      "object_position": null,
      "order": null,
      "overflow": null,
      "overflow_x": null,
      "overflow_y": null,
      "padding": null,
      "right": null,
      "top": null,
      "visibility": null,
      "width": null
     }
    },
    "43bdc575c73b4dfb88e2cf541d14db86": {
     "model_module": "@jupyter-widgets/base",
     "model_module_version": "1.2.0",
     "model_name": "LayoutModel",
     "state": {
      "_model_module": "@jupyter-widgets/base",
      "_model_module_version": "1.2.0",
      "_model_name": "LayoutModel",
      "_view_count": null,
      "_view_module": "@jupyter-widgets/base",
      "_view_module_version": "1.2.0",
      "_view_name": "LayoutView",
      "align_content": null,
      "align_items": null,
      "align_self": null,
      "border": null,
      "bottom": null,
      "display": null,
      "flex": null,
      "flex_flow": null,
      "grid_area": null,
      "grid_auto_columns": null,
      "grid_auto_flow": null,
      "grid_auto_rows": null,
      "grid_column": null,
      "grid_gap": null,
      "grid_row": null,
      "grid_template_areas": null,
      "grid_template_columns": null,
      "grid_template_rows": null,
      "height": null,
      "justify_content": null,
      "justify_items": null,
      "left": null,
      "margin": null,
      "max_height": null,
      "max_width": null,
      "min_height": null,
      "min_width": null,
      "object_fit": null,
      "object_position": null,
      "order": null,
      "overflow": null,
      "overflow_x": null,
      "overflow_y": null,
      "padding": null,
      "right": null,
      "top": null,
      "visibility": null,
      "width": null
     }
    },
    "5992147fc58e4237a459da415d4886a6": {
     "model_module": "@jupyter-widgets/controls",
     "model_module_version": "1.5.0",
     "model_name": "DescriptionStyleModel",
     "state": {
      "_model_module": "@jupyter-widgets/controls",
      "_model_module_version": "1.5.0",
      "_model_name": "DescriptionStyleModel",
      "_view_count": null,
      "_view_module": "@jupyter-widgets/base",
      "_view_module_version": "1.2.0",
      "_view_name": "StyleView",
      "description_width": ""
     }
    },
    "6b942a38d8b8492eacf1a5ef1bc7adc0": {
     "model_module": "@jupyter-widgets/controls",
     "model_module_version": "1.5.0",
     "model_name": "HTMLModel",
     "state": {
      "_dom_classes": [],
      "_model_module": "@jupyter-widgets/controls",
      "_model_module_version": "1.5.0",
      "_model_name": "HTMLModel",
      "_view_count": null,
      "_view_module": "@jupyter-widgets/controls",
      "_view_module_version": "1.5.0",
      "_view_name": "HTMLView",
      "description": "",
      "description_tooltip": null,
      "layout": "IPY_MODEL_36d9bee188e9484e8c12819c7b691121",
      "placeholder": "​",
      "style": "IPY_MODEL_cdbdf055526142bdbb4e393faf60dbf0",
      "value": " 9/9 [01:27&lt;00:00,  9.30s/it]"
     }
    },
    "8a4feedef9984f3c8eda77dc606127c4": {
     "model_module": "@jupyter-widgets/base",
     "model_module_version": "1.2.0",
     "model_name": "LayoutModel",
     "state": {
      "_model_module": "@jupyter-widgets/base",
      "_model_module_version": "1.2.0",
      "_model_name": "LayoutModel",
      "_view_count": null,
      "_view_module": "@jupyter-widgets/base",
      "_view_module_version": "1.2.0",
      "_view_name": "LayoutView",
      "align_content": null,
      "align_items": null,
      "align_self": null,
      "border": null,
      "bottom": null,
      "display": null,
      "flex": null,
      "flex_flow": null,
      "grid_area": null,
      "grid_auto_columns": null,
      "grid_auto_flow": null,
      "grid_auto_rows": null,
      "grid_column": null,
      "grid_gap": null,
      "grid_row": null,
      "grid_template_areas": null,
      "grid_template_columns": null,
      "grid_template_rows": null,
      "height": null,
      "justify_content": null,
      "justify_items": null,
      "left": null,
      "margin": null,
      "max_height": null,
      "max_width": null,
      "min_height": null,
      "min_width": null,
      "object_fit": null,
      "object_position": null,
      "order": null,
      "overflow": null,
      "overflow_x": null,
      "overflow_y": null,
      "padding": null,
      "right": null,
      "top": null,
      "visibility": null,
      "width": null
     }
    },
    "9738e2b841724f058497eb001d3bb07d": {
     "model_module": "@jupyter-widgets/controls",
     "model_module_version": "1.5.0",
     "model_name": "ProgressStyleModel",
     "state": {
      "_model_module": "@jupyter-widgets/controls",
      "_model_module_version": "1.5.0",
      "_model_name": "ProgressStyleModel",
      "_view_count": null,
      "_view_module": "@jupyter-widgets/base",
      "_view_module_version": "1.2.0",
      "_view_name": "StyleView",
      "bar_color": null,
      "description_width": ""
     }
    },
    "9792c3609ef74a308b87139378a2fc0e": {
     "model_module": "@jupyter-widgets/controls",
     "model_module_version": "1.5.0",
     "model_name": "HTMLModel",
     "state": {
      "_dom_classes": [],
      "_model_module": "@jupyter-widgets/controls",
      "_model_module_version": "1.5.0",
      "_model_name": "HTMLModel",
      "_view_count": null,
      "_view_module": "@jupyter-widgets/controls",
      "_view_module_version": "1.5.0",
      "_view_name": "HTMLView",
      "description": "",
      "description_tooltip": null,
      "layout": "IPY_MODEL_8a4feedef9984f3c8eda77dc606127c4",
      "placeholder": "​",
      "style": "IPY_MODEL_c16591ec91514f39892b0335461b968c",
      "value": "Batches: 100%"
     }
    },
    "a694c3f681e24bc89a94924addbd386e": {
     "model_module": "@jupyter-widgets/controls",
     "model_module_version": "1.5.0",
     "model_name": "FloatProgressModel",
     "state": {
      "_dom_classes": [],
      "_model_module": "@jupyter-widgets/controls",
      "_model_module_version": "1.5.0",
      "_model_name": "FloatProgressModel",
      "_view_count": null,
      "_view_module": "@jupyter-widgets/controls",
      "_view_module_version": "1.5.0",
      "_view_name": "ProgressView",
      "bar_style": "success",
      "description": "",
      "description_tooltip": null,
      "layout": "IPY_MODEL_b17c990477cb430c957196af3402e088",
      "max": 9,
      "min": 0,
      "orientation": "horizontal",
      "style": "IPY_MODEL_9738e2b841724f058497eb001d3bb07d",
      "value": 9
     }
    },
    "b17c990477cb430c957196af3402e088": {
     "model_module": "@jupyter-widgets/base",
     "model_module_version": "1.2.0",
     "model_name": "LayoutModel",
     "state": {
      "_model_module": "@jupyter-widgets/base",
      "_model_module_version": "1.2.0",
      "_model_name": "LayoutModel",
      "_view_count": null,
      "_view_module": "@jupyter-widgets/base",
      "_view_module_version": "1.2.0",
      "_view_name": "LayoutView",
      "align_content": null,
      "align_items": null,
      "align_self": null,
      "border": null,
      "bottom": null,
      "display": null,
      "flex": null,
      "flex_flow": null,
      "grid_area": null,
      "grid_auto_columns": null,
      "grid_auto_flow": null,
      "grid_auto_rows": null,
      "grid_column": null,
      "grid_gap": null,
      "grid_row": null,
      "grid_template_areas": null,
      "grid_template_columns": null,
      "grid_template_rows": null,
      "height": null,
      "justify_content": null,
      "justify_items": null,
      "left": null,
      "margin": null,
      "max_height": null,
      "max_width": null,
      "min_height": null,
      "min_width": null,
      "object_fit": null,
      "object_position": null,
      "order": null,
      "overflow": null,
      "overflow_x": null,
      "overflow_y": null,
      "padding": null,
      "right": null,
      "top": null,
      "visibility": null,
      "width": null
     }
    },
    "b9c299be78a74c458a105dc808623a58": {
     "model_module": "@jupyter-widgets/base",
     "model_module_version": "1.2.0",
     "model_name": "LayoutModel",
     "state": {
      "_model_module": "@jupyter-widgets/base",
      "_model_module_version": "1.2.0",
      "_model_name": "LayoutModel",
      "_view_count": null,
      "_view_module": "@jupyter-widgets/base",
      "_view_module_version": "1.2.0",
      "_view_name": "LayoutView",
      "align_content": null,
      "align_items": null,
      "align_self": null,
      "border": null,
      "bottom": null,
      "display": null,
      "flex": null,
      "flex_flow": null,
      "grid_area": null,
      "grid_auto_columns": null,
      "grid_auto_flow": null,
      "grid_auto_rows": null,
      "grid_column": null,
      "grid_gap": null,
      "grid_row": null,
      "grid_template_areas": null,
      "grid_template_columns": null,
      "grid_template_rows": null,
      "height": null,
      "justify_content": null,
      "justify_items": null,
      "left": null,
      "margin": null,
      "max_height": null,
      "max_width": null,
      "min_height": null,
      "min_width": null,
      "object_fit": null,
      "object_position": null,
      "order": null,
      "overflow": null,
      "overflow_x": null,
      "overflow_y": null,
      "padding": null,
      "right": null,
      "top": null,
      "visibility": null,
      "width": null
     }
    },
    "c16591ec91514f39892b0335461b968c": {
     "model_module": "@jupyter-widgets/controls",
     "model_module_version": "1.5.0",
     "model_name": "DescriptionStyleModel",
     "state": {
      "_model_module": "@jupyter-widgets/controls",
      "_model_module_version": "1.5.0",
      "_model_name": "DescriptionStyleModel",
      "_view_count": null,
      "_view_module": "@jupyter-widgets/base",
      "_view_module_version": "1.2.0",
      "_view_name": "StyleView",
      "description_width": ""
     }
    },
    "c369f05e42cd4559998b94898cbfbafc": {
     "model_module": "@jupyter-widgets/controls",
     "model_module_version": "1.5.0",
     "model_name": "HTMLModel",
     "state": {
      "_dom_classes": [],
      "_model_module": "@jupyter-widgets/controls",
      "_model_module_version": "1.5.0",
      "_model_name": "HTMLModel",
      "_view_count": null,
      "_view_module": "@jupyter-widgets/controls",
      "_view_module_version": "1.5.0",
      "_view_name": "HTMLView",
      "description": "",
      "description_tooltip": null,
      "layout": "IPY_MODEL_0ba4d8f79fd5431ca218ece45140f3ff",
      "placeholder": "​",
      "style": "IPY_MODEL_5992147fc58e4237a459da415d4886a6",
      "value": "Batches: 100%"
     }
    },
    "cdbdf055526142bdbb4e393faf60dbf0": {
     "model_module": "@jupyter-widgets/controls",
     "model_module_version": "1.5.0",
     "model_name": "DescriptionStyleModel",
     "state": {
      "_model_module": "@jupyter-widgets/controls",
      "_model_module_version": "1.5.0",
      "_model_name": "DescriptionStyleModel",
      "_view_count": null,
      "_view_module": "@jupyter-widgets/base",
      "_view_module_version": "1.2.0",
      "_view_name": "StyleView",
      "description_width": ""
     }
    },
    "df154edc84db40a1b67640d7909a9a68": {
     "model_module": "@jupyter-widgets/controls",
     "model_module_version": "1.5.0",
     "model_name": "HBoxModel",
     "state": {
      "_dom_classes": [],
      "_model_module": "@jupyter-widgets/controls",
      "_model_module_version": "1.5.0",
      "_model_name": "HBoxModel",
      "_view_count": null,
      "_view_module": "@jupyter-widgets/controls",
      "_view_module_version": "1.5.0",
      "_view_name": "HBoxView",
      "box_style": "",
      "children": [
       "IPY_MODEL_c369f05e42cd4559998b94898cbfbafc",
       "IPY_MODEL_a694c3f681e24bc89a94924addbd386e",
       "IPY_MODEL_6b942a38d8b8492eacf1a5ef1bc7adc0"
      ],
      "layout": "IPY_MODEL_b9c299be78a74c458a105dc808623a58"
     }
    },
    "e1284ae9f38b4ff6a7caef5ec4a574b9": {
     "model_module": "@jupyter-widgets/base",
     "model_module_version": "1.2.0",
     "model_name": "LayoutModel",
     "state": {
      "_model_module": "@jupyter-widgets/base",
      "_model_module_version": "1.2.0",
      "_model_name": "LayoutModel",
      "_view_count": null,
      "_view_module": "@jupyter-widgets/base",
      "_view_module_version": "1.2.0",
      "_view_name": "LayoutView",
      "align_content": null,
      "align_items": null,
      "align_self": null,
      "border": null,
      "bottom": null,
      "display": null,
      "flex": null,
      "flex_flow": null,
      "grid_area": null,
      "grid_auto_columns": null,
      "grid_auto_flow": null,
      "grid_auto_rows": null,
      "grid_column": null,
      "grid_gap": null,
      "grid_row": null,
      "grid_template_areas": null,
      "grid_template_columns": null,
      "grid_template_rows": null,
      "height": null,
      "justify_content": null,
      "justify_items": null,
      "left": null,
      "margin": null,
      "max_height": null,
      "max_width": null,
      "min_height": null,
      "min_width": null,
      "object_fit": null,
      "object_position": null,
      "order": null,
      "overflow": null,
      "overflow_x": null,
      "overflow_y": null,
      "padding": null,
      "right": null,
      "top": null,
      "visibility": null,
      "width": null
     }
    }
   }
  }
 },
 "nbformat": 4,
 "nbformat_minor": 5
}
